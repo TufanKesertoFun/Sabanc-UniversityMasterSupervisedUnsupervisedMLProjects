{
  "nbformat": 4,
  "nbformat_minor": 0,
  "metadata": {
    "colab": {
      "name": "semanticAnalysisOfText.ipynb",
      "provenance": []
    },
    "kernelspec": {
      "name": "python3",
      "display_name": "Python 3"
    },
    "language_info": {
      "name": "python"
    }
  },
  "cells": [
    {
      "cell_type": "code",
      "metadata": {
        "colab": {
          "base_uri": "https://localhost:8080/"
        },
        "id": "8IMJCPDyXJfV",
        "outputId": "5031c719-8084-4cfb-b0fe-abdcad1c0a76"
      },
      "source": [
        "import pandas as pd\n",
        "import numpy as np\n",
        "import seaborn as sns\n",
        "\n",
        "from sklearn.feature_extraction import text\n",
        "from sklearn import pipeline as pip\n",
        "from sklearn import naive_bayes as nb\n",
        "from nltk.tokenize import word_tokenize, wordpunct_tokenize\n",
        "from sklearn import model_selection as mod\n",
        "from sklearn import discriminant_analysis as dis\n",
        "from sklearn import preprocessing as pre\n",
        "from sklearn import decomposition as dec\n",
        "from sklearn.base import BaseEstimator, TransformerMixin\n",
        "\n",
        "from nltk import pos_tag\n",
        "from nltk.corpus import wordnet\n",
        "from nltk.stem import WordNetLemmatizer\n",
        "from nltk.tokenize.casual import casual_tokenize\n",
        "\n",
        "import nltk\n",
        "nltk.download('punkt')\n",
        "nltk.download('averaged_perceptron_tagger')\n",
        "nltk.download('wordnet')"
      ],
      "execution_count": null,
      "outputs": [
        {
          "output_type": "stream",
          "text": [
            "[nltk_data] Downloading package punkt to /root/nltk_data...\n",
            "[nltk_data]   Package punkt is already up-to-date!\n",
            "[nltk_data] Downloading package averaged_perceptron_tagger to\n",
            "[nltk_data]     /root/nltk_data...\n",
            "[nltk_data]   Package averaged_perceptron_tagger is already up-to-\n",
            "[nltk_data]       date!\n",
            "[nltk_data] Downloading package wordnet to /root/nltk_data...\n",
            "[nltk_data]   Package wordnet is already up-to-date!\n"
          ],
          "name": "stdout"
        },
        {
          "output_type": "execute_result",
          "data": {
            "text/plain": [
              "True"
            ]
          },
          "metadata": {
            "tags": []
          },
          "execution_count": 17
        }
      ]
    },
    {
      "cell_type": "code",
      "metadata": {
        "colab": {
          "base_uri": "https://localhost:8080/",
          "height": 235
        },
        "id": "uEtgnq7jXakk",
        "outputId": "0bec67e7-e5c7-485e-ceda-beb4c08c15ce"
      },
      "source": [
        "data = pd.read_csv(\"/content/sms_spam.csv\")\n",
        "data.set_index(\"index\", inplace=True)\n",
        "data.head()"
      ],
      "execution_count": null,
      "outputs": [
        {
          "output_type": "execute_result",
          "data": {
            "text/html": [
              "<div>\n",
              "<style scoped>\n",
              "    .dataframe tbody tr th:only-of-type {\n",
              "        vertical-align: middle;\n",
              "    }\n",
              "\n",
              "    .dataframe tbody tr th {\n",
              "        vertical-align: top;\n",
              "    }\n",
              "\n",
              "    .dataframe thead th {\n",
              "        text-align: right;\n",
              "    }\n",
              "</style>\n",
              "<table border=\"1\" class=\"dataframe\">\n",
              "  <thead>\n",
              "    <tr style=\"text-align: right;\">\n",
              "      <th></th>\n",
              "      <th>spam</th>\n",
              "      <th>text</th>\n",
              "    </tr>\n",
              "    <tr>\n",
              "      <th>index</th>\n",
              "      <th></th>\n",
              "      <th></th>\n",
              "    </tr>\n",
              "  </thead>\n",
              "  <tbody>\n",
              "    <tr>\n",
              "      <th>sms0</th>\n",
              "      <td>0</td>\n",
              "      <td>Go until jurong point, crazy.. Available only ...</td>\n",
              "    </tr>\n",
              "    <tr>\n",
              "      <th>sms1</th>\n",
              "      <td>0</td>\n",
              "      <td>Ok lar... Joking wif u oni...</td>\n",
              "    </tr>\n",
              "    <tr>\n",
              "      <th>sms2!</th>\n",
              "      <td>1</td>\n",
              "      <td>Free entry in 2 a wkly comp to win FA Cup fina...</td>\n",
              "    </tr>\n",
              "    <tr>\n",
              "      <th>sms3</th>\n",
              "      <td>0</td>\n",
              "      <td>U dun say so early hor... U c already then say...</td>\n",
              "    </tr>\n",
              "    <tr>\n",
              "      <th>sms4</th>\n",
              "      <td>0</td>\n",
              "      <td>Nah I don't think he goes to usf, he lives aro...</td>\n",
              "    </tr>\n",
              "  </tbody>\n",
              "</table>\n",
              "</div>"
            ],
            "text/plain": [
              "       spam                                               text\n",
              "index                                                         \n",
              "sms0      0  Go until jurong point, crazy.. Available only ...\n",
              "sms1      0                      Ok lar... Joking wif u oni...\n",
              "sms2!     1  Free entry in 2 a wkly comp to win FA Cup fina...\n",
              "sms3      0  U dun say so early hor... U c already then say...\n",
              "sms4      0  Nah I don't think he goes to usf, he lives aro..."
            ]
          },
          "metadata": {
            "tags": []
          },
          "execution_count": 7
        }
      ]
    },
    {
      "cell_type": "code",
      "metadata": {
        "colab": {
          "base_uri": "https://localhost:8080/"
        },
        "id": "NWrSDlCSbyk4",
        "outputId": "75fd1c13-4a1a-4682-a5df-3f258964e7f3"
      },
      "source": [
        "data.spam.value_counts().max()/data.spam.value_counts().sum()"
      ],
      "execution_count": null,
      "outputs": [
        {
          "output_type": "execute_result",
          "data": {
            "text/plain": [
              "0.8681000620219144"
            ]
          },
          "metadata": {
            "tags": []
          },
          "execution_count": 17
        }
      ]
    },
    {
      "cell_type": "code",
      "metadata": {
        "id": "Br19YT5uXjK4"
      },
      "source": [
        "X_train, X_test, y_train, y_test = mod.train_test_split(data.text, data.spam, test_size=0.33, random_state=42)"
      ],
      "execution_count": null,
      "outputs": []
    },
    {
      "cell_type": "code",
      "metadata": {
        "colab": {
          "base_uri": "https://localhost:8080/"
        },
        "id": "7ZWrPz6Fb_xP",
        "outputId": "7e036770-2113-4791-b450-6e6b0cca199c"
      },
      "source": [
        "pd.Series(y_train).value_counts().max() / pd.Series(y_train).value_counts().sum()"
      ],
      "execution_count": null,
      "outputs": [
        {
          "output_type": "execute_result",
          "data": {
            "text/plain": [
              "0.8675925925925926"
            ]
          },
          "metadata": {
            "tags": []
          },
          "execution_count": 18
        }
      ]
    },
    {
      "cell_type": "code",
      "metadata": {
        "colab": {
          "base_uri": "https://localhost:8080/"
        },
        "id": "KWUuNp2X0ne_",
        "outputId": "aa3b6917-8449-4a1b-ca1d-03ad19d1218c"
      },
      "source": [
        "X_train"
      ],
      "execution_count": null,
      "outputs": [
        {
          "output_type": "execute_result",
          "data": {
            "text/plain": [
              "index\n",
              "sms4043!    Buy Space Invaders 4 a chance 2 win orig Arcad...\n",
              "sms4226             I want  &lt;#&gt;  rs da:)do you have it?\n",
              "sms4484     Pls she needs to dat slowly or she will vomit ...\n",
              "sms3423!    Claim a 200 shopping spree, just call 08717895...\n",
              "sms2389                          R ü going 4 today's meeting?\n",
              "                                  ...                        \n",
              "sms4426     Lol no. I just need to cash in my nitros. Hurr...\n",
              "sms466      This is hoping you enjoyed your game yesterday...\n",
              "sms3092     Its  &lt;#&gt; k here oh. Should i send home f...\n",
              "sms3772                        COME BACK TO TAMPA FFFFUUUUUUU\n",
              "sms860!     WIN a year supply of CDs 4 a store of ur choic...\n",
              "Name: text, Length: 3240, dtype: object"
            ]
          },
          "metadata": {
            "tags": []
          },
          "execution_count": 20
        }
      ]
    },
    {
      "cell_type": "code",
      "metadata": {
        "id": "4SuBZ0aSYKCp"
      },
      "source": [
        "def myOwnTokenizer(d):\n",
        "  tokens = casual_tokenize(d)\n",
        "  return tokens\n",
        "  #return filter(lambda x:len(x) > 1, tokens)\n",
        "\n",
        "def convertToArray(X):\n",
        "  return X.toarray()\n",
        "\n",
        "pipe_lda = pip.Pipeline([\n",
        "        (\"vect\", text.TfidfVectorizer(lowercase=False, tokenizer=myOwnTokenizer)),\n",
        "        (\"toarray\", pre.FunctionTransformer(convertToArray)),\n",
        "        (\"lda\", dis.LinearDiscriminantAnalysis(n_components=1))\n",
        "])\n",
        "\n",
        "mod.cross_val_score(pipe_lda, X_train, y_train, cv=3).mean()"
      ],
      "execution_count": null,
      "outputs": []
    },
    {
      "cell_type": "code",
      "metadata": {
        "id": "7lmXeMvOhNIu"
      },
      "source": [
        "def myOwnTokenizer(d):\n",
        "  tokens = casual_tokenize(d)\n",
        "  return tokens\n",
        "  #return filter(lambda x:len(x) > 1, tokens)\n",
        "\n",
        "def convertToArray(X):\n",
        "  return X.toarray()"
      ],
      "execution_count": null,
      "outputs": []
    },
    {
      "cell_type": "code",
      "metadata": {
        "colab": {
          "base_uri": "https://localhost:8080/"
        },
        "id": "wGAQLJlcZdSz",
        "outputId": "84ce24bc-f673-4307-8a9f-8b4f0fb9dfd1"
      },
      "source": [
        "pipe_pca = pip.Pipeline([\n",
        "        (\"vect\", text.TfidfVectorizer(lowercase=False, tokenizer=myOwnTokenizer)),\n",
        "        (\"toarray\", pre.FunctionTransformer(convertToArray)),\n",
        "        (\"pca\", dec.PCA(n_components=16)),\n",
        "        (\"lda\", dis.LinearDiscriminantAnalysis(n_components=1))\n",
        "])\n",
        "\n",
        "mod.cross_val_score(pipe_pca, X_train, y_train, cv=3).mean()"
      ],
      "execution_count": null,
      "outputs": [
        {
          "output_type": "execute_result",
          "data": {
            "text/plain": [
              "0.9500000000000001"
            ]
          },
          "metadata": {
            "tags": []
          },
          "execution_count": 21
        }
      ]
    },
    {
      "cell_type": "code",
      "metadata": {
        "id": "-63RR0-5h7bS"
      },
      "source": [
        "pipe_pca = pip.Pipeline([\n",
        "        (\"vect\", text.TfidfVectorizer(lowercase=False, tokenizer=myOwnTokenizer)),\n",
        "        (\"toarray\", pre.FunctionTransformer(convertToArray)),\n",
        "        (\"pca\", dec.PCA(n_components=16)),\n",
        "])\n",
        "X_train_pca = pipe_pca.fit_transform(X_train)"
      ],
      "execution_count": null,
      "outputs": []
    },
    {
      "cell_type": "code",
      "metadata": {
        "colab": {
          "base_uri": "https://localhost:8080/"
        },
        "id": "V0EsqdXaiRMU",
        "outputId": "37d8566e-d51a-4439-9a56-a0f4c9d9a850"
      },
      "source": [
        "len(X_train)"
      ],
      "execution_count": null,
      "outputs": [
        {
          "output_type": "execute_result",
          "data": {
            "text/plain": [
              "3240"
            ]
          },
          "metadata": {
            "tags": []
          },
          "execution_count": 24
        }
      ]
    },
    {
      "cell_type": "code",
      "metadata": {
        "colab": {
          "base_uri": "https://localhost:8080/"
        },
        "id": "1gkEiN9ziJR3",
        "outputId": "22cecab7-7f09-4100-8b98-cfe1ae078faf"
      },
      "source": [
        "X_train_pca.shape"
      ],
      "execution_count": null,
      "outputs": [
        {
          "output_type": "execute_result",
          "data": {
            "text/plain": [
              "(3240, 16)"
            ]
          },
          "metadata": {
            "tags": []
          },
          "execution_count": 25
        }
      ]
    },
    {
      "cell_type": "code",
      "metadata": {
        "colab": {
          "base_uri": "https://localhost:8080/"
        },
        "id": "WKEyGrqDilZS",
        "outputId": "786f77cc-3a42-4c9a-d6f9-a6a3c71fb998"
      },
      "source": [
        "len(pipe_pca[0].get_feature_names())"
      ],
      "execution_count": null,
      "outputs": [
        {
          "output_type": "execute_result",
          "data": {
            "text/plain": [
              "9442"
            ]
          },
          "metadata": {
            "tags": []
          },
          "execution_count": 29
        }
      ]
    },
    {
      "cell_type": "code",
      "metadata": {
        "colab": {
          "base_uri": "https://localhost:8080/"
        },
        "id": "cKeREEYdiU18",
        "outputId": "2dec76b8-b1d4-4c71-b21c-fac1e6fc3f4e"
      },
      "source": [
        "pipe_pca[2].components_.shape"
      ],
      "execution_count": null,
      "outputs": [
        {
          "output_type": "execute_result",
          "data": {
            "text/plain": [
              "(16, 9442)"
            ]
          },
          "metadata": {
            "tags": []
          },
          "execution_count": 27
        }
      ]
    },
    {
      "cell_type": "code",
      "metadata": {
        "colab": {
          "base_uri": "https://localhost:8080/"
        },
        "id": "56CthWbEich_",
        "outputId": "ed752306-fec9-4c60-c1e9-62735fd319a7"
      },
      "source": [
        "X_train_pca[:3]"
      ],
      "execution_count": null,
      "outputs": [
        {
          "output_type": "execute_result",
          "data": {
            "text/plain": [
              "array([[-0.00639977,  0.06532221, -0.08160546, -0.02665664, -0.04691725,\n",
              "         0.02497698,  0.00646163, -0.03025783, -0.02225674, -0.00960611,\n",
              "        -0.01945895, -0.043444  ,  0.03749388, -0.01165751, -0.01885173,\n",
              "        -0.03525776],\n",
              "       [-0.05739484, -0.16449939,  0.1683625 , -0.08905109,  0.12385508,\n",
              "        -0.0132055 ,  0.01887385, -0.1518987 , -0.02987555,  0.1232523 ,\n",
              "         0.0810034 ,  0.05405624,  0.17816707,  0.21687927,  0.12409351,\n",
              "         0.0655853 ],\n",
              "       [-0.024125  ,  0.07556292, -0.03574506, -0.02875504,  0.00958294,\n",
              "        -0.009895  , -0.0258231 , -0.05545518,  0.02377341,  0.04602631,\n",
              "        -0.02580092, -0.06552526,  0.03043382,  0.00152099,  0.01365901,\n",
              "        -0.0243333 ]])"
            ]
          },
          "metadata": {
            "tags": []
          },
          "execution_count": 30
        }
      ]
    },
    {
      "cell_type": "code",
      "metadata": {
        "colab": {
          "base_uri": "https://localhost:8080/"
        },
        "id": "kMK8u5aij4hw",
        "outputId": "bf337554-0d3d-4114-e696-7a43bad27fd2"
      },
      "source": [
        "train_mean = pipe_pca[0].transform(X_train).toarray().mean(axis=0)\n",
        "train_mean.shape"
      ],
      "execution_count": null,
      "outputs": [
        {
          "output_type": "execute_result",
          "data": {
            "text/plain": [
              "(9442,)"
            ]
          },
          "metadata": {
            "tags": []
          },
          "execution_count": 37
        }
      ]
    },
    {
      "cell_type": "code",
      "metadata": {
        "colab": {
          "base_uri": "https://localhost:8080/"
        },
        "id": "ujhK7r2Ri0pC",
        "outputId": "063f4b6f-2c16-4168-c7e0-b9865a8264f9"
      },
      "source": [
        "temp = pipe_pca[0].transform(X_train[:3]).toarray() - train_mean\n",
        "temp.shape"
      ],
      "execution_count": null,
      "outputs": [
        {
          "output_type": "execute_result",
          "data": {
            "text/plain": [
              "(3, 9442)"
            ]
          },
          "metadata": {
            "tags": []
          },
          "execution_count": 38
        }
      ]
    },
    {
      "cell_type": "code",
      "metadata": {
        "colab": {
          "base_uri": "https://localhost:8080/"
        },
        "id": "7RJ9cO3ijDAP",
        "outputId": "aaa2da54-bb4e-4249-c1cc-c95329d34ac2"
      },
      "source": [
        "np.set_printoptions(suppress=True)\n",
        "temp.dot(pipe_pca[2].components_.T)"
      ],
      "execution_count": null,
      "outputs": [
        {
          "output_type": "execute_result",
          "data": {
            "text/plain": [
              "array([[-0.00639977,  0.06532221, -0.08160546, -0.02665664, -0.04691725,\n",
              "         0.02497698,  0.00646163, -0.03025783, -0.02225674, -0.00960611,\n",
              "        -0.01945895, -0.043444  ,  0.03749388, -0.01165751, -0.01885173,\n",
              "        -0.03525776],\n",
              "       [-0.05739484, -0.16449939,  0.1683625 , -0.08905109,  0.12385508,\n",
              "        -0.0132055 ,  0.01887385, -0.1518987 , -0.02987555,  0.1232523 ,\n",
              "         0.0810034 ,  0.05405624,  0.17816707,  0.21687927,  0.12409351,\n",
              "         0.0655853 ],\n",
              "       [-0.024125  ,  0.07556292, -0.03574506, -0.02875504,  0.00958294,\n",
              "        -0.009895  , -0.0258231 , -0.05545518,  0.02377341,  0.04602631,\n",
              "        -0.02580092, -0.06552526,  0.03043382,  0.00152099,  0.01365901,\n",
              "        -0.0243333 ]])"
            ]
          },
          "metadata": {
            "tags": []
          },
          "execution_count": 39
        }
      ]
    },
    {
      "cell_type": "markdown",
      "metadata": {
        "id": "VhjFrezFle06"
      },
      "source": [
        "# SVD"
      ]
    },
    {
      "cell_type": "code",
      "metadata": {
        "id": "no0MQQWTpGzU"
      },
      "source": [
        "class centerData(BaseEstimator, TransformerMixin):\n",
        "\n",
        "  def fit(self, X, y=None): # for train only\n",
        "    self.mean = X.mean(axis=0)\n",
        "    return self\n",
        "    \n",
        "  def transform(self, X, y=None): # both train and test\n",
        "    return X - self.mean"
      ],
      "execution_count": null,
      "outputs": []
    },
    {
      "cell_type": "code",
      "metadata": {
        "id": "VUYf7DCGjWSK"
      },
      "source": [
        "pipe_svd = pip.Pipeline([\n",
        "        (\"vect\", text.TfidfVectorizer(lowercase=False, tokenizer=myOwnTokenizer, ngram_range=(2,2))),\n",
        "        (\"centering\", centerData()),\n",
        "        (\"pca\", dec.TruncatedSVD(n_components=16, n_iter=100)),\n",
        "])\n",
        "X_train_svd = pipe_svd.fit_transform(X_train)"
      ],
      "execution_count": null,
      "outputs": []
    },
    {
      "cell_type": "code",
      "metadata": {
        "colab": {
          "base_uri": "https://localhost:8080/"
        },
        "id": "pmj7Rfnllvju",
        "outputId": "f753b802-c417-4b06-a193-10a30386b201"
      },
      "source": [
        "X_train_svd[:3]"
      ],
      "execution_count": null,
      "outputs": [
        {
          "output_type": "execute_result",
          "data": {
            "text/plain": [
              "array([[-0.00640075,  0.06532031, -0.08162648, -0.02666556, -0.04681782,\n",
              "         0.02507095,  0.00631175, -0.03015197, -0.02214532, -0.00962254,\n",
              "        -0.01940295, -0.04179116,  0.03748726,  0.00212807, -0.02215952,\n",
              "        -0.02876928],\n",
              "       [-0.05739298, -0.1644824 ,  0.16830024, -0.08901153,  0.12375722,\n",
              "        -0.01277814,  0.01859548, -0.15009793, -0.02935068,  0.1256266 ,\n",
              "         0.0802498 ,  0.05374593,  0.1786291 , -0.19649817,  0.16468816,\n",
              "         0.05497592],\n",
              "       [-0.02412541,  0.07557722, -0.03569328, -0.02877414,  0.00962721,\n",
              "        -0.00997721, -0.02494212, -0.05544626,  0.02340487,  0.04543021,\n",
              "        -0.0258472 , -0.06181375,  0.02090541, -0.00837963,  0.01268731,\n",
              "        -0.03678081]])"
            ]
          },
          "metadata": {
            "tags": []
          },
          "execution_count": 59
        }
      ]
    },
    {
      "cell_type": "code",
      "metadata": {
        "colab": {
          "base_uri": "https://localhost:8080/"
        },
        "id": "RCFS18CYvXJl",
        "outputId": "f0dfe8fe-17c3-464b-b17a-40884a950038"
      },
      "source": [
        "pipe_svd[2].components_.shape"
      ],
      "execution_count": null,
      "outputs": [
        {
          "output_type": "execute_result",
          "data": {
            "text/plain": [
              "(16, 9442)"
            ]
          },
          "metadata": {
            "tags": []
          },
          "execution_count": 60
        }
      ]
    },
    {
      "cell_type": "code",
      "metadata": {
        "colab": {
          "base_uri": "https://localhost:8080/"
        },
        "id": "OtfpIN7zvhnZ",
        "outputId": "95ee93f7-bb24-43d6-8c95-61bcbeeb0320"
      },
      "source": [
        "features = np.array(pipe_svd[0].get_feature_names())\n",
        "\n",
        "for topicID in range(16):\n",
        "  #topicID = 0\n",
        "  imp_indexes = pipe_svd[2].components_[topicID].argsort()[::-1][:50]\n",
        "  imp_tokens = features[imp_indexes]\n",
        "  print(\"Topic #\" + str(topicID) + \":\", imp_tokens)"
      ],
      "execution_count": null,
      "outputs": [
        {
          "output_type": "stream",
          "text": [
            "Topic #0: [\"I'll call\" 'call later' 'Sorry ,' \", I'll\" 'in meeting' 'later in'\n",
            " 'later ok' 'ok bye' 'meeting .' 'call you' 'you later' \"meeting I'll\"\n",
            " 'you when' 'meeting sir' \"when I'm\" 'text you' \"I'll text\" ', in' 'sir .'\n",
            " 'Cool ,' 'call Arul' 'to trade' 'related to' 'thing related'\n",
            " 'trade please' 'meeting any' 'Arul .' \"I'll see\" 'any thing' 'you in'\n",
            " 'am in' 'in a' 'later .' \"I'll ask\" 'come by' '. <#>' \"I'm close\" 'a few'\n",
            " \"I'll be\" 'a bit' 'to bed' 'work something' \"I'll work\" 'something out'\n",
            " 'please call' \"K I'll\" 'Aight ,' 'Oh fine' \"I'll let\" 'by tonight']\n",
            "Topic #1: ['a £' '. Valid' 'prize GUARANTEED' 'Valid 12hrs' '. Call' 'GUARANTEED .'\n",
            " '12hrs only' '. Claim' 'URGENT !' 'to contact' 'draw shows' 'won a'\n",
            " 'are trying' 'shows that' 'We are' 'line .' 'from land' 'trying to'\n",
            " 'land line' '! We' 'have won' 'that you' 'you have' 'contact U'\n",
            " 'Todays draw' '. Todays' 'U .' '£ 2000' '2000 prize' '800 prize' '! Your'\n",
            " '£ 800' 'Last weekends' 'weekends draw' 'contact you' '3030 .'\n",
            " 'Claim 3030' 'Your Mobile' '. Last' '£ 1000' 'awarded with'\n",
            " 'Mobile number' 'number has' 'been awarded' 'you .' 'has been' 'with a'\n",
            " 'M95 .' 'Claim M95' 'Call 09050001808']\n",
            "Topic #2: ['. Pls' 'now .' 'phone right' 'cant pick' 'pick the' 'Pls send'\n",
            " 'right now' 'the phone' 'I cant' 'a message' 'send a' '.. pls'\n",
            " 'Pls convey' 'convey my' 'her birthday' 'wishes to' 'do me' 'is her'\n",
            " 'to Nimya' 'pls do' '. Today' 'Today is' 'me a' 'Pls .' 'Birthday wishes'\n",
            " 'Raji ..' 'Nimya .' 'my Birthday' 'favour .' 'a favour' 'birthday .'\n",
            " 'Nimya ..' 'forget it' 'Tessy ..' 'pls dnt' 'a favor' 'birthday wishes'\n",
            " 'dnt forget' 'favor .' 'birthday Shijas' 'my birthday' '. I' 'it .'\n",
            " 'tv now' 'job :)' 'got new' 'Watching tv' 'new job' 'now ,' 'phone :)']\n",
            "Topic #3: ['Ok ...' 'C ya' '... C' 'ya ...' 'Sweet dreams' '... Sweet' 'dreams ...'\n",
            " 'Ur typical' '... Ur' 'typical reply' 'reply ...' 'enjoy ur' 'U enjoy'\n",
            " 'shows ...' 'ur shows' 'we meeting' 'r we' '... U' 'meeting later'\n",
            " 'Then r' 'Thanx ...' 'din get' 'I din' 'get ur' 'ur msg' 'msg ...'\n",
            " '. Pls' 'later ?' '... Then' '... Thanx' 'pick the' 'cant pick'\n",
            " 'phone right' 'the phone' 'Pls send' 'I cant' 'leave my' 'i leave'\n",
            " 'my house' 'a message' 'house .' 'right now' 'send a' 'ü too' '2 ü'\n",
            " '... Gd' 'nite 2' 'Gd nite' 'noe when' '... Let']\n",
            "Topic #4: ['are you' 'you ?' 'How are' '! How' 'how are' 'you doing' 'princess !'\n",
            " 'morning princess' 'doing ?' 'Good morning' 'you .' 'where are' '. How'\n",
            " 'What are' 'evening !' '? I' 'Good evening' 'Ok ...' 'Where are' '. What'\n",
            " ', my' '? Are' 'you dear' '.. where' 'aathi ..' 'Are you' 'dear ..'\n",
            " '? how' 'you ...' 'my love' 'Hello madam' 'madam how' 'Sweet heart'\n",
            " 'heart how' 'r u' 'What you' 'you a' 'me ?' 'for the' '. Where' 'I need'\n",
            " ':) where' 'need you' 'holding up' 'you holding' 'think of' 'How goes'\n",
            " 'day ?' 'now ?' \". How's\"]\n",
            "Topic #5: ['This is' 'U have' 'are you' 'prize .' '2 claim' '! Only' 'is easy'\n",
            " 'Only 10p' '. BT-national-rate' '10p per' 'claim is' 'easy ,' 'contact u'\n",
            " '. 2' 'NOW !' 'the 2nd' 'is the' 'won the' 'have tried' '2nd time'\n",
            " 'we have' 'time we' '. U' 'u .' 'have won' 'the £' 'minute .' 'you ?'\n",
            " 'Pound prize' '750 Pound' 'tried 2' 'per minute' ', call' '2 contact'\n",
            " 'per min' 'have WON' 'to a' 'just call' 'attempt to' 'How are' 'the 750'\n",
            " '£ 2,000' ', just' 'Suite 342/2' '/ Suite' 'Row /' 'min .' '342/2 Lands'\n",
            " '£ 1000' 'to 86688']\n",
            "Topic #6: ['. I' 'I am' 'the way' 'on the' 'way to' 'am on' '2003 Account'\n",
            " 'Your 2003' 'Statement for' 'Account Statement' 'PRIVATE !' 'I will'\n",
            " '! Your' 'This is' 'Code :' 'Identifier Code' '800 un-redeemed' '. M'\n",
            " 'I .' '. points' 'M .' 'shows 800' 'un-redeemed S' 'points .' 'S .'\n",
            " '! Only' 'U have' 'prize .' '. BT-national-rate' 'Only 10p' 'claim is'\n",
            " '10p per' '2 claim' 'easy ,' 'is easy' 'ur home' '/ 04' 'Ok ...' 'i am'\n",
            " '. 2' 'are you' 'contact u' 'am in' 'to ur' 'NOW !' 'is the' 'the 2nd'\n",
            " '. Call' 'have tried' '2nd time']\n",
            "Topic #7: ['the way' 'on the' 'way to' 'am on' 'I am' 'i am' 'ur home' 'to ur'\n",
            " 'to railway' 'Ok i' 'am in' 'tirupur .' 'hi hi' 'to tirupur' 'Mm i'\n",
            " 'in bus' 'home hi' 'will come' 'are you' 'to home' 'bus on' 'to calicut'\n",
            " \"I'm on\" 'me when' \"when you're\" 'in a' ', text' 'by the' 'text me'\n",
            " 'come to' 'i will' \"I'll text\" 'Cool ,' 'text you' 'to contact'\n",
            " 'you when' 'K ,' 'have won' 'way .' 'draw shows' 'you ?' \"you're on\"\n",
            " 'are trying' 'won a' 'We are' 'da .' 'shows that' \"when I'm\" 'way ,'\n",
            " 'trying to']\n",
            "Topic #8: ['08707509020 Just' 'call now' 'per min' 'Croydon CR9' '1327 Croydon'\n",
            " 'min NTT' '5WB 0870' 'CR9 5WB' '20p per' 'Box 1327' 'NTT Ltd' 'Just 20p'\n",
            " 'Ltd ,' ', PO' 'PO Box' 'now 08707509020' 'FANTASIES call' 'HOT LIVE'\n",
            " 'LIVE FANTASIES' 'a national' 'rate call' '0870 is' 'is a' '.. k'\n",
            " '0870 ..' 'national rate' '= rate' 'REALITY FANTASY' 'FANTASY SHOW'\n",
            " 'national =' 'CHANCE TO' 'BE ON' 'A REALITY' 'YOUR CHANCE' 'SHOW call'\n",
            " '= 08707509020' 'now =' 'ON A' 'TO BE' 'the way' 'on the' 'am on'\n",
            " 'way to' 'call .' '. Call' 'are you' 'Statement for' 'PRIVATE !'\n",
            " '2003 Account' 'Account Statement']\n",
            "Topic #9: ['Suite 342/2' '/ Suite' 'Row /' 'to 86688' '342/2 Lands' 'CHAT to'\n",
            " '150p /' '/ W1J6HL' '/ Row' 'W1J6HL LDN' 'Lands /' '. This' 'Txt CHAT'\n",
            " 'been invited' \"don't know\" 'This is' '! Txt' 'to contact' '. I' 'is our'\n",
            " 'invited to' 'our final' 'to XCHAT' 'XCHAT .' 'final attempt' \"U've been\"\n",
            " 'u !' 'attempt to' 'HG /' 'me .' '08707509020 Just' '/ MsgrcvdHG'\n",
            " 'MsgrcvdHG /' 'Croydon CR9' 'min NTT' 'NTT Ltd' '20p per' 'Just 20p'\n",
            " '5WB 0870' 'CR9 5WB' '1327 Croydon' 'Box 1327' 'Ltd ,' ', PO' 'call now'\n",
            " '. HG' '86688 150p' 'now .' 'PO Box' 'per min']\n",
            "Topic #10: ['.. pls' 'do me' 'Pls convey' 'is her' 'wishes to' 'to Nimya' 'convey my'\n",
            " 'her birthday' '. Pls' 'pls do' '. Today' 'Today is' 'me a' 'favour .'\n",
            " 'Birthday wishes' 'Nimya .' 'Raji ..' 'my Birthday' 'a favour' 'Pls .'\n",
            " 'birthday .' 'my birthday' 'birthday wishes' 'pls dnt' 'Nimya ..'\n",
            " 'birthday Shijas' 'forget it' 'dnt forget' 'favor .' 'a favor' 'Tessy ..'\n",
            " 'it .' '! Only' 'easy ,' 'claim is' 'Only 10p' '. BT-national-rate'\n",
            " '10p per' 'is easy' 'contact u' 'is the' '. 2' 'This is' 'u .' 'we have'\n",
            " '2nd time' 'have tried' 'won the' 'time we' 'the 2nd']\n",
            "Topic #11: ['Please call' '. Please' \"I'm at\" 'You have' '/ Suite' 'Row /'\n",
            " 'Suite 342/2' 'at work' '342/2 Lands' 'to 86688' 'work .' '150p /'\n",
            " 'CHAT to' '.. pls' '/ W1J6HL' '/ Row' 'Lands /' 'W1J6HL LDN' '! Txt'\n",
            " '. This' 'the way' 'Txt CHAT' 'have 1' '1 new' 'been invited' 'is our'\n",
            " 'attempt to' 'on the' 'Pls convey' 'to Nimya' 'is her' 'wishes to'\n",
            " 'do me' 'her birthday' 'convey my' 'HG /' 'our final' 'to XCHAT'\n",
            " 'invited to' 'XCHAT .' 'final attempt' 'way to' '. Pls' '. Today'\n",
            " 'pls do' \"U've been\" 'am on' 'Today is' 'me a' 'are you']\n",
            "Topic #12: ['lor .' '! Your' 'the way' 'Ok lor' 'Your 2003' 'Statement for'\n",
            " '2003 Account' 'Account Statement' 'PRIVATE !' 'on the' 'am on' 'I .'\n",
            " '. M' 'Identifier Code' 'M .' '. points' '800 un-redeemed'\n",
            " 'un-redeemed S' 'shows 800' 'Code :' 'points .' 'S .' 'way to' '. Call'\n",
            " '/ 04' 'lor ...' 'i am' 'are you' 'Ok i' 'to railway' 'you ?' 'the phone'\n",
            " 'that persons' 'persons story' 'cant pick' 'pick the' 'phone right'\n",
            " 'for shows' 'I cant' 'Pls send' 'hi hi' \"when you're\" 'for 078' 'send a'\n",
            " 'I anything' 'anything lor' 'to ur' 'right now' 'a message' 'me when']\n",
            "Topic #13: ['lor .' 'Ok lor' '. Please' 'Please call' 'lor ...' \"I'm at\" '. I'\n",
            " 'at work' 'work .' 'anything lor' 'I anything' \". I'm\" \"I'm in\" 'me .'\n",
            " 'u wan' 'Watching tv' 'wan 2' '1 new' 'have 1' '. U' 'tv lor'\n",
            " 'then message' 'You have' 'I will' 'town now' 'are you' 'wat ?' 'lei .'\n",
            " 'home .' 'Then u' 'now lei' '530 lor' 'u drive' 'drive lor' 'in town'\n",
            " 'call .' 'me b4' 'Msg me' '. Msg' 'b4 u' 'u call' 'in e' '2 go'\n",
            " 'new voicemail' 'voicemail .' 'then i' '. Where' 'call me' 'new message'\n",
            " 'ü lor']\n",
            "Topic #14: ['lor .' '£ 1000' '. I' 'or a' '1000 cash' 'Ok lor' 'cash or' '4 *'\n",
            " 'live operator' 'a live' 'You are' 'specially selected' 'been specially'\n",
            " 'speak to' 'receive £' 'a winner' 'to a' 'a 4' 'holiday (' '( flights'\n",
            " 'winner U' ') speak' '* holiday' 'flights inc' 'operator 2' 'inc )'\n",
            " 'selected 2' 'are a' '2 receive' 'have been' '18 +' 'guaranteed £'\n",
            " 'a guaranteed' 'customer service' 'service representative'\n",
            " 'representative on' 'call our' 'our customer' '£ 2000' 'WON a' 'a £'\n",
            " 'T &' 'or £' 'I will' '£ 5000' '& Cs' 'I am' 'await collection'\n",
            " 'have WON' '. To']\n",
            "Topic #15: [\"' '\" 'in a' '. She' 'a minute' 'see you' \", '\" 'said ,' '! !' 'you in'\n",
            " 'n My' 'if I' 'My Wife' ', see' 'for a' 'a bit' 'I sed' \"OK '\" 'minute ?'\n",
            " '5 minuts' 'out 5' 'She came' 'She said' 'u mind' 'wid a' 'Wife ,'\n",
            " 'sed in' 'sexy mood' 'minuts latr' 'a cake' 'mood .' '... n' \"' do\"\n",
            " \"' OK\" \"' ,\" 'bedroom for' 'go into' 'cake ...' 'came out' 'latr wid'\n",
            " 'do u' 'the bedroom' 'a sexy' 'into the' 'mind if' \"? '\" 'I go' 'a few'\n",
            " ', I' 'Awesome ,' 'there in']\n"
          ],
          "name": "stdout"
        }
      ]
    },
    {
      "cell_type": "code",
      "metadata": {
        "colab": {
          "base_uri": "https://localhost:8080/"
        },
        "id": "yi6TQ63ozIZ_",
        "outputId": "d76e019c-fbe0-46d0-f2a4-cfab9c00dd14"
      },
      "source": [
        "X_train_svd.shape"
      ],
      "execution_count": null,
      "outputs": [
        {
          "output_type": "execute_result",
          "data": {
            "text/plain": [
              "(3240, 16)"
            ]
          },
          "metadata": {
            "tags": []
          },
          "execution_count": 11
        }
      ]
    },
    {
      "cell_type": "code",
      "metadata": {
        "colab": {
          "base_uri": "https://localhost:8080/"
        },
        "id": "iQHKrM0HzrYM",
        "outputId": "b5650ae2-ebd3-436c-ab92-a56b7dce104b"
      },
      "source": [
        "X_train_svd_small = X_train_svd[:10]\n",
        "norm = np.linalg.norm(X_train_svd_small, axis=1).reshape(-1,1)\n",
        "X_train_svd_small = X_train_svd_small / norm\n",
        "sims = X_train_svd_small.dot(X_train_svd_small.T)\n",
        "sims.shape"
      ],
      "execution_count": null,
      "outputs": [
        {
          "output_type": "execute_result",
          "data": {
            "text/plain": [
              "(10, 10)"
            ]
          },
          "metadata": {
            "tags": []
          },
          "execution_count": 16
        }
      ]
    },
    {
      "cell_type": "code",
      "metadata": {
        "colab": {
          "base_uri": "https://localhost:8080/",
          "height": 326
        },
        "id": "B4zqca7p0IlM",
        "outputId": "e88e6ea5-dc01-4653-edee-c98a88637efd"
      },
      "source": [
        "sns.heatmap(sims, annot=True, xticklabels=X_train.index[:10], yticklabels=X_train.index[:10])"
      ],
      "execution_count": null,
      "outputs": [
        {
          "output_type": "execute_result",
          "data": {
            "text/plain": [
              "<matplotlib.axes._subplots.AxesSubplot at 0x7f1cd8401850>"
            ]
          },
          "metadata": {
            "tags": []
          },
          "execution_count": 21
        },
        {
          "output_type": "display_data",
          "data": {
            "image/png": "[encoded data removed]",
            "text/plain": [
              "<Figure size 432x288 with 2 Axes>"
            ]
          },
          "metadata": {
            "tags": [],
            "needs_background": "light"
          }
        }
      ]
    },
    {
      "cell_type": "code",
      "metadata": {
        "colab": {
          "base_uri": "https://localhost:8080/"
        },
        "id": "sd0OJaLE1Fs5",
        "outputId": "64cc74a8-36fa-454d-e554-9fb3618cfb77"
      },
      "source": [
        "for i in range(10):\n",
        "  print(X_train[i])"
      ],
      "execution_count": null,
      "outputs": [
        {
          "output_type": "stream",
          "text": [
            "Buy Space Invaders 4 a chance 2 win orig Arcade Game console. Press 0 for Games Arcade (std WAP charge) See o2.co.uk/games 4 Terms + settings. No purchase\n",
            "I want  &lt;#&gt;  rs da:)do you have it?\n",
            "Pls she needs to dat slowly or she will vomit more.\n",
            "Claim a 200 shopping spree, just call 08717895698 now! Have you won! MobStoreQuiz10ppm\n",
            "R ü going 4 today's meeting?\n",
            "Huh i cant thk of more oredi how many pages do we have?\n",
            "Sent me ur email id soon\n",
            "Hi did u decide wot 2 get 4 his bday if not ill prob jus get him a voucher frm virgin or sumfing \n",
            "When you guys planning on coming over?\n",
            "UR GOING 2 BAHAMAS! CallFREEFONE 08081560665 and speak to a live operator to claim either Bahamas cruise of£2000 CASH 18+only. To opt out txt X to 07786200117\n"
          ],
          "name": "stdout"
        }
      ]
    },
    {
      "cell_type": "code",
      "metadata": {
        "colab": {
          "base_uri": "https://localhost:8080/"
        },
        "id": "VG0VMXNtzVB0",
        "outputId": "4be51cf3-1d03-427d-c6d6-a2d20a85f63a"
      },
      "source": [
        "a = [\n",
        "     [3, 5, 8],\n",
        "     [2, 12, 1]\n",
        "    ]\n",
        "np.linalg.norm(a, axis=1).reshape(-1,1)"
      ],
      "execution_count": null,
      "outputs": [
        {
          "output_type": "execute_result",
          "data": {
            "text/plain": [
              "array([[ 9.89949494],\n",
              "       [12.20655562]])"
            ]
          },
          "metadata": {
            "tags": []
          },
          "execution_count": 15
        }
      ]
    },
    {
      "cell_type": "code",
      "metadata": {
        "colab": {
          "base_uri": "https://localhost:8080/"
        },
        "id": "T4cwUCd_zkmW",
        "outputId": "0d1fa4fe-b577-4775-a0f9-745691e92191"
      },
      "source": [
        "np.sqrt(149)"
      ],
      "execution_count": null,
      "outputs": [
        {
          "output_type": "execute_result",
          "data": {
            "text/plain": [
              "12.206555615733702"
            ]
          },
          "metadata": {
            "tags": []
          },
          "execution_count": 13
        }
      ]
    },
    {
      "cell_type": "markdown",
      "metadata": {
        "id": "rQ7-h2Z8m6jS"
      },
      "source": [
        "# Classes"
      ]
    },
    {
      "cell_type": "code",
      "metadata": {
        "id": "DFoUMsmqlyW4"
      },
      "source": [
        "class Car:\n",
        "  def __init__(self, b, k, year): # constructor\n",
        "    self.brand = b\n",
        "    self.km = k\n",
        "    self.year = year\n",
        "  \n",
        "  def getBrand(self):\n",
        "    return self.brand\n",
        "  \n",
        "  def getKM(self):\n",
        "    return self.km\n",
        "  \n",
        "  def changeKM(self, newKM):\n",
        "    self.km = newKM\n"
      ],
      "execution_count": null,
      "outputs": []
    },
    {
      "cell_type": "code",
      "metadata": {
        "id": "H8_NqH9EnWqP"
      },
      "source": [
        "c1 = Car(\"toyota\", 20000, 2018)\n",
        "c2 = Car(\"opel\", 56000, 2016)\n"
      ],
      "execution_count": null,
      "outputs": []
    },
    {
      "cell_type": "code",
      "metadata": {
        "colab": {
          "base_uri": "https://localhost:8080/",
          "height": 35
        },
        "id": "Oruaw_N2ngZT",
        "outputId": "7c4e707f-2ce1-4424-e82b-26129618c8db"
      },
      "source": [
        "c1.getBrand()"
      ],
      "execution_count": null,
      "outputs": [
        {
          "output_type": "execute_result",
          "data": {
            "application/vnd.google.colaboratory.intrinsic+json": {
              "type": "string"
            },
            "text/plain": [
              "'toyota'"
            ]
          },
          "metadata": {
            "tags": []
          },
          "execution_count": 47
        }
      ]
    },
    {
      "cell_type": "code",
      "metadata": {
        "colab": {
          "base_uri": "https://localhost:8080/",
          "height": 35
        },
        "id": "b_JNZGMwnwbc",
        "outputId": "145c5372-889f-4a04-b775-0b53762b424a"
      },
      "source": [
        "c2.getBrand()"
      ],
      "execution_count": null,
      "outputs": [
        {
          "output_type": "execute_result",
          "data": {
            "application/vnd.google.colaboratory.intrinsic+json": {
              "type": "string"
            },
            "text/plain": [
              "'opel'"
            ]
          },
          "metadata": {
            "tags": []
          },
          "execution_count": 48
        }
      ]
    },
    {
      "cell_type": "code",
      "metadata": {
        "colab": {
          "base_uri": "https://localhost:8080/"
        },
        "id": "vnGSk53qnyWM",
        "outputId": "dda41821-d7b4-477c-e1a4-32d60c6a0bed"
      },
      "source": [
        "print(c1.getKM())\n",
        "c1.changeKM(35000)\n",
        "print(c1.getKM())"
      ],
      "execution_count": null,
      "outputs": [
        {
          "output_type": "stream",
          "text": [
            "20000\n",
            "35000\n"
          ],
          "name": "stdout"
        }
      ]
    },
    {
      "cell_type": "code",
      "metadata": {
        "id": "upuLGpCsoAMR"
      },
      "source": [
        ""
      ],
      "execution_count": null,
      "outputs": []
    }
  ]
}