{
 "cells": [
  {
   "cell_type": "code",
   "execution_count": 2,
   "metadata": {
    "colab": {
     "base_uri": "https://localhost:8080/"
    },
    "id": "6QxDXhkrZYDT",
    "outputId": "e73aad30-492b-46bd-836a-36b19925e7c3"
   },
   "outputs": [
    {
     "name": "stdout",
     "output_type": "stream",
     "text": [
      "\r",
      "0% [Working]\r",
      "            \r",
      "Hit:1 https://cloud.r-project.org/bin/linux/ubuntu bionic-cran40/ InRelease\n",
      "Ign:2 https://developer.download.nvidia.com/compute/cuda/repos/ubuntu1804/x86_64  InRelease\n",
      "Ign:3 https://developer.download.nvidia.com/compute/machine-learning/repos/ubuntu1804/x86_64  InRelease\n",
      "Hit:4 https://developer.download.nvidia.com/compute/cuda/repos/ubuntu1804/x86_64  Release\n",
      "Hit:5 https://developer.download.nvidia.com/compute/machine-learning/repos/ubuntu1804/x86_64  Release\n",
      "Hit:6 http://archive.ubuntu.com/ubuntu bionic InRelease\n",
      "Get:7 http://security.ubuntu.com/ubuntu bionic-security InRelease [88.7 kB]\n",
      "Hit:8 http://ppa.launchpad.net/c2d4u.team/c2d4u4.0+/ubuntu bionic InRelease\n",
      "Get:9 http://archive.ubuntu.com/ubuntu bionic-updates InRelease [88.7 kB]\n",
      "Hit:10 http://ppa.launchpad.net/cran/libgit2/ubuntu bionic InRelease\n",
      "Hit:13 http://ppa.launchpad.net/deadsnakes/ppa/ubuntu bionic InRelease\n",
      "Get:14 http://archive.ubuntu.com/ubuntu bionic-backports InRelease [74.6 kB]\n",
      "Hit:15 http://ppa.launchpad.net/graphics-drivers/ppa/ubuntu bionic InRelease\n",
      "Fetched 252 kB in 2s (102 kB/s)\n",
      "Reading package lists... Done\n",
      "openjdk version \"1.8.0_282\"\n",
      "OpenJDK Runtime Environment (build 1.8.0_282-8u282-b08-0ubuntu1~18.04-b08)\n",
      "OpenJDK 64-Bit Server VM (build 25.282-b08, mixed mode)\n",
      "Requirement already satisfied: pyspark in /usr/local/lib/python3.7/dist-packages (3.1.1)\n",
      "Requirement already satisfied: py4j==0.10.9 in /usr/local/lib/python3.7/dist-packages (from pyspark) (0.10.9)\n"
     ]
    }
   ],
   "source": [
    "!apt-get update\n",
    "\n",
    "!apt-get install openjdk-8-jdk-headless -qq > /dev/null\n",
    "\n",
    "import os\n",
    "\n",
    "os.environ[\"JAVA_HOME\"] = \"/usr/lib/jvm/java-8-openjdk-amd64\"\n",
    "\n",
    "!update-alternatives --set java /usr/lib/jvm/java-8-openjdk-amd64/jre/bin/java\n",
    "\n",
    "!java -version\n",
    "\n",
    "!pip install pyspark\n"
   ]
  },
  {
   "cell_type": "code",
   "execution_count": 162,
   "metadata": {
    "id": "kim5sFlKZby8"
   },
   "outputs": [],
   "source": [
    "from pyspark.sql.functions import UserDefinedFunction\n",
    "from pyspark.sql.types import StringType\n",
    "from pyspark.ml.feature import StringIndexer,VectorAssembler\n",
    "from pyspark.ml.classification import DecisionTreeClassifier\n",
    "from pyspark.ml.evaluation import ClusteringEvaluator\n",
    "from pyspark.ml.clustering import KMeans\n",
    "import matplotlib.pyplot as plt\n",
    "from pyspark.sql import SparkSession\n",
    "from pyspark.sql.functions import UserDefinedFunction\n",
    "from pyspark.sql.types import StringType\n",
    "from pyspark.ml.feature import StringIndexer,VectorAssembler\n",
    "from pyspark.ml.classification import RandomForestClassifier\n",
    "from pyspark.ml.evaluation import MulticlassClassificationEvaluator\n",
    "from pyspark.ml.feature import StringIndexer,VectorAssembler,OneHotEncoder\n",
    "from pyspark.sql.functions import UserDefinedFunction\n",
    "from pyspark.sql.types import StringType\n",
    "from pyspark.ml.feature import StringIndexer,VectorAssembler\n",
    "from pyspark.ml.classification import RandomForestClassifier\n",
    "from pyspark.ml.evaluation import MulticlassClassificationEvaluator\n",
    "from pyspark.sql.functions import UserDefinedFunction\n",
    "from pyspark.sql.types import StringType\n",
    "from pyspark.ml.feature import StringIndexer,VectorAssembler\n",
    "from pyspark.ml.classification import RandomForestClassifier\n",
    "from pyspark.ml.tuning import TrainValidationSplit,ParamGridBuilder\n",
    "from pyspark.ml.evaluation import MulticlassClassificationEvaluator"
   ]
  },
  {
   "cell_type": "markdown",
   "metadata": {
    "id": "QMhLxseEY3DE"
   },
   "source": [
    "Question 1:Find the cars with the worst fuel efficiency (lowest mpg) for each origin. "
   ]
  },
  {
   "cell_type": "code",
   "execution_count": 9,
   "metadata": {
    "id": "cMnVpGAgGoLs"
   },
   "outputs": [],
   "source": [
    "spark = SparkSession.builder.appName(\"Spark Dataframe Clustering\").getOrCreate()\n",
    "mpgDF = spark.read\\\n",
    "          .option(\"header\",\"true\")\\\n",
    "          .option(\"inferSchema\", \"true\")\\\n",
    "          .option(\"delimiter\",\",\")\\\n",
    "          .csv(\"auto-mpg.data.txt\")"
   ]
  },
  {
   "cell_type": "code",
   "execution_count": 11,
   "metadata": {
    "colab": {
     "base_uri": "https://localhost:8080/"
    },
    "id": "v1vrA_eOIIYk",
    "outputId": "adc7eda2-5f73-4f8a-94f0-dd75297695cc"
   },
   "outputs": [
    {
     "name": "stdout",
     "output_type": "stream",
     "text": [
      "+----+---------+------------+----------+------+------------+----------+------+--------------------+\n",
      "| mpg|cylinders|displacement|horsepower|weight|acceleration|model_year|origin|                name|\n",
      "+----+---------+------------+----------+------+------------+----------+------+--------------------+\n",
      "|18.0|        8|       307.0|       130|  3504|        12.0|        70|     1|chevrolet chevell...|\n",
      "|15.0|        8|       350.0|       165|  3693|        11.5|        70|     1|   buick skylark 320|\n",
      "+----+---------+------------+----------+------+------------+----------+------+--------------------+\n",
      "only showing top 2 rows\n",
      "\n"
     ]
    }
   ],
   "source": [
    "mpgDF.show(2)"
   ]
  },
  {
   "cell_type": "code",
   "execution_count": 18,
   "metadata": {
    "colab": {
     "base_uri": "https://localhost:8080/"
    },
    "id": "UuoV85O8Zhf9",
    "outputId": "d4dbd64b-9cdc-4ad8-e030-af35409ce7b0"
   },
   "outputs": [
    {
     "name": "stdout",
     "output_type": "stream",
     "text": [
      "+------------------+------+\n",
      "|  sum(nvl(mpg, 0))|origin|\n",
      "+------------------+------+\n",
      "|            1952.4|Europe|\n",
      "|2405.5999999999995|  Asia|\n",
      "| 5000.799999999998|   USA|\n",
      "+------------------+------+\n",
      "\n"
     ]
    }
   ],
   "source": [
    "mpgDF.createOrReplaceTempView(\"answer_1mpg\")\n",
    "\n",
    "res_answer_one_df = spark.sql(\"\"\"select sum(nvl(mpg,0)),\n",
    "case \n",
    "when origin = 1 then 'USA'\n",
    "when origin = 2 then 'Europe'\n",
    "when origin = 3 then 'Asia' end as origin from answer_1mpg group by origin order by sum(mpg) asc\"\"\").show(100)"
   ]
  },
  {
   "cell_type": "markdown",
   "metadata": {
    "id": "rv_bMs2LbMoR"
   },
   "source": [
    "Question 2 Add a new column named “Car-Type” that has following values according to\n",
    "acceleration."
   ]
  },
  {
   "cell_type": "code",
   "execution_count": 19,
   "metadata": {
    "id": "pfngk9UxbSKx"
   },
   "outputs": [],
   "source": [
    "spark = SparkSession.builder.appName(\"Spark Dataframe Clustering\").getOrCreate()\n",
    "mpgquestion2 = spark.read\\\n",
    "          .option(\"header\",\"true\")\\\n",
    "          .option(\"inferSchema\", \"true\")\\\n",
    "          .option(\"delimiter\",\",\")\\\n",
    "          .csv(\"auto-mpg.data.txt\")"
   ]
  },
  {
   "cell_type": "code",
   "execution_count": 32,
   "metadata": {
    "colab": {
     "base_uri": "https://localhost:8080/"
    },
    "id": "i98VydpSbZ2y",
    "outputId": "90c76338-a522-42d8-a623-6f686154675e"
   },
   "outputs": [
    {
     "name": "stdout",
     "output_type": "stream",
     "text": [
      "+-----------+------------+\n",
      "|   Car_Type|acceleration|\n",
      "+-----------+------------+\n",
      "|Average Car|         8.0|\n",
      "|Average Car|        11.0|\n",
      "|Average Car|         9.5|\n",
      "|Average Car|        11.5|\n",
      "|Average Car|        10.0|\n",
      "|Average Car|        10.5|\n",
      "|Average Car|        11.5|\n",
      "|Average Car|        10.0|\n",
      "|Average Car|        11.5|\n",
      "|Average Car|         8.5|\n",
      "+-----------+------------+\n",
      "only showing top 10 rows\n",
      "\n"
     ]
    }
   ],
   "source": [
    "mpgDF.createOrReplaceTempView(\"answer_2mpg\")\n",
    "\n",
    "res_answer_two_df = spark.sql(\"\"\"select \n",
    "case \n",
    "when acceleration >= 0 and acceleration < 7 then 'Fast Car'\n",
    "when acceleration >= 7 and acceleration < 12 then 'Average Car'\n",
    "when acceleration >= 12  then 'Slow Car' \n",
    "end as Car_Type,acceleration from  answer_2mpg order by Car_Type asc\n",
    "\"\"\").show(10)"
   ]
  },
  {
   "cell_type": "markdown",
   "metadata": {
    "id": "Tb5smOdtcvaJ"
   },
   "source": [
    "There is no fast car in this dataset accoring to given flag"
   ]
  },
  {
   "cell_type": "markdown",
   "metadata": {
    "id": "wZJeIrhic0IJ"
   },
   "source": [
    "Question 3: We want to predict mpg for given automobile info. (40 points)\n",
    "Choose one of the ML algorithms from Spark ML library and prepare data for\n",
    "training"
   ]
  },
  {
   "cell_type": "code",
   "execution_count": 179,
   "metadata": {
    "id": "UOKYt6QNc6BJ"
   },
   "outputs": [],
   "source": [
    "spark = SparkSession.builder.appName(\"Spark Dataframe Clustering\").getOrCreate()\n",
    "mpgquestion3 = spark.read\\\n",
    "          .option(\"header\",\"true\")\\\n",
    "          .option(\"inferSchema\", \"true\")\\\n",
    "          .option(\"delimiter\",\",\")\\\n",
    "          .csv(\"auto-mpg.data.txt\")"
   ]
  },
  {
   "cell_type": "code",
   "execution_count": 199,
   "metadata": {
    "colab": {
     "base_uri": "https://localhost:8080/"
    },
    "id": "ERPVVtp5dcU5",
    "outputId": "4121d6b4-ed61-40be-87e6-79845975bd80"
   },
   "outputs": [
    {
     "name": "stdout",
     "output_type": "stream",
     "text": [
      "+----+---------+------------+----------+------+------------+----------+------+--------------------+\n",
      "| mpg|cylinders|displacement|horsepower|weight|acceleration|model_year|origin|                name|\n",
      "+----+---------+------------+----------+------+------------+----------+------+--------------------+\n",
      "|18.0|        8|       307.0|       130|  3504|        12.0|        70|     1|chevrolet chevell...|\n",
      "|15.0|        8|       350.0|       165|  3693|        11.5|        70|     1|   buick skylark 320|\n",
      "|18.0|        8|       318.0|       150|  3436|        11.0|        70|     1|  plymouth satellite|\n",
      "|16.0|        8|       304.0|       150|  3433|        12.0|        70|     1|       amc rebel sst|\n",
      "+----+---------+------------+----------+------+------------+----------+------+--------------------+\n",
      "only showing top 4 rows\n",
      "\n"
     ]
    }
   ],
   "source": [
    "mpgquestion3.show(4)"
   ]
  },
  {
   "cell_type": "code",
   "execution_count": 181,
   "metadata": {
    "colab": {
     "base_uri": "https://localhost:8080/"
    },
    "id": "zz8LeXR7mXts",
    "outputId": "b14b095c-04ff-4a8e-bdfa-f8188fd0c7e6"
   },
   "outputs": [
    {
     "name": "stdout",
     "output_type": "stream",
     "text": [
      "root\n",
      " |-- mpg: double (nullable = true)\n",
      " |-- cylinders: integer (nullable = true)\n",
      " |-- displacement: double (nullable = true)\n",
      " |-- horsepower: string (nullable = true)\n",
      " |-- weight: integer (nullable = true)\n",
      " |-- acceleration: double (nullable = true)\n",
      " |-- model_year: integer (nullable = true)\n",
      " |-- origin: integer (nullable = true)\n",
      " |-- name: string (nullable = true)\n",
      "\n"
     ]
    }
   ],
   "source": [
    "mpgquestion3.printSchema()"
   ]
  },
  {
   "cell_type": "markdown",
   "metadata": {
    "id": "ghInXZHheYpR"
   },
   "source": [
    "I wanted to check whether any null values in our data or not. According to result below there is no null values in our dataset"
   ]
  },
  {
   "cell_type": "code",
   "execution_count": 182,
   "metadata": {
    "colab": {
     "base_uri": "https://localhost:8080/"
    },
    "id": "IJl9RFlqdSGo",
    "outputId": "9c8037f4-cb39-4361-ff27-72be3f5a7775"
   },
   "outputs": [
    {
     "name": "stdout",
     "output_type": "stream",
     "text": [
      "+--------+-----------------+\n",
      "|count(1)|             flag|\n",
      "+--------+-----------------+\n",
      "|       0|         null_mpg|\n",
      "|       0|   null_cylinders|\n",
      "|       0|null_displacement|\n",
      "|       0|  null_horsepower|\n",
      "|       0|      null_weight|\n",
      "|       0|null_acceleration|\n",
      "|       0|  null_model_year|\n",
      "|       0|      null_origin|\n",
      "|       0|        null_name|\n",
      "+--------+-----------------+\n",
      "\n"
     ]
    }
   ],
   "source": [
    "mpgquestion3.createOrReplaceTempView(\"answer_3mpg\")\n",
    "\n",
    "res_answer_one_df = spark.sql(\"\"\"\n",
    "select count(*), 'null_mpg' as flag from answer_3mpg where mpg is  null\n",
    "union all\n",
    "select count(*), 'null_cylinders' as flag from answer_3mpg where cylinders is null\n",
    "union all\n",
    "select count(*), 'null_displacement' as flag from answer_3mpg where displacement is null\n",
    "union all\n",
    "select count(*), 'null_horsepower' as flag from answer_3mpg where horsepower is null\n",
    "union all\n",
    "select count(*), 'null_weight' as flag from answer_3mpg where weight is null\n",
    "union all\n",
    "select count(*), 'null_acceleration' as flag from answer_3mpg where acceleration is null\n",
    "union all\n",
    "select count(*), 'null_model_year' as flag from answer_3mpg where model_year is null\n",
    "union all\n",
    "select count(*), 'null_origin' as flag from answer_3mpg where origin is null\n",
    "union all\n",
    "select count(*), 'null_name' as flag from answer_3mpg where name is null\n",
    "\"\"\").show()"
   ]
  },
  {
   "cell_type": "code",
   "execution_count": 213,
   "metadata": {
    "id": "RAPDyc64q1RZ"
   },
   "outputs": [],
   "source": [
    "#But horse power has ? we need to solve this poblem\n",
    "mpgquestion3 = spark.sql(\"\"\"select  \n",
    "mpg,cylinders,displacement,weight,horsepower,acceleration,model_year,origin,name\n",
    "from answer_3mpg where horsepower <> '?'\"\"\")"
   ]
  },
  {
   "cell_type": "code",
   "execution_count": null,
   "metadata": {
    "id": "DllXJjZRrlcK"
   },
   "outputs": [],
   "source": [
    "#I prefer to delefe ? from the horsepower"
   ]
  },
  {
   "cell_type": "code",
   "execution_count": 214,
   "metadata": {
    "colab": {
     "base_uri": "https://localhost:8080/"
    },
    "id": "EhVNlh6irf50",
    "outputId": "a03aa364-4183-4995-9d89-18a6f607d698"
   },
   "outputs": [
    {
     "name": "stdout",
     "output_type": "stream",
     "text": [
      "+----+---------+------------+------+----------+------------+----------+------+--------------------+\n",
      "| mpg|cylinders|displacement|weight|horsepower|acceleration|model_year|origin|                name|\n",
      "+----+---------+------------+------+----------+------------+----------+------+--------------------+\n",
      "|18.0|        8|       307.0|  3504|       130|        12.0|        70|     1|chevrolet chevell...|\n",
      "|15.0|        8|       350.0|  3693|       165|        11.5|        70|     1|   buick skylark 320|\n",
      "|18.0|        8|       318.0|  3436|       150|        11.0|        70|     1|  plymouth satellite|\n",
      "|16.0|        8|       304.0|  3433|       150|        12.0|        70|     1|       amc rebel sst|\n",
      "|17.0|        8|       302.0|  3449|       140|        10.5|        70|     1|         ford torino|\n",
      "|15.0|        8|       429.0|  4341|       198|        10.0|        70|     1|    ford galaxie 500|\n",
      "|14.0|        8|       454.0|  4354|       220|         9.0|        70|     1|    chevrolet impala|\n",
      "|14.0|        8|       440.0|  4312|       215|         8.5|        70|     1|   plymouth fury iii|\n",
      "|14.0|        8|       455.0|  4425|       225|        10.0|        70|     1|    pontiac catalina|\n",
      "|15.0|        8|       390.0|  3850|       190|         8.5|        70|     1|  amc ambassador dpl|\n",
      "|15.0|        8|       383.0|  3563|       170|        10.0|        70|     1| dodge challenger se|\n",
      "|14.0|        8|       340.0|  3609|       160|         8.0|        70|     1|  plymouth 'cuda 340|\n",
      "|15.0|        8|       400.0|  3761|       150|         9.5|        70|     1|chevrolet monte c...|\n",
      "|14.0|        8|       455.0|  3086|       225|        10.0|        70|     1|buick estate wago...|\n",
      "|24.0|        4|       113.0|  2372|        95|        15.0|        70|     3|toyota corona mar...|\n",
      "|22.0|        6|       198.0|  2833|        95|        15.5|        70|     1|     plymouth duster|\n",
      "|18.0|        6|       199.0|  2774|        97|        15.5|        70|     1|          amc hornet|\n",
      "|21.0|        6|       200.0|  2587|        85|        16.0|        70|     1|       ford maverick|\n",
      "|27.0|        4|        97.0|  2130|        88|        14.5|        70|     3|        datsun pl510|\n",
      "|26.0|        4|        97.0|  1835|        46|        20.5|        70|     2|volkswagen 1131 d...|\n",
      "+----+---------+------------+------+----------+------------+----------+------+--------------------+\n",
      "only showing top 20 rows\n",
      "\n"
     ]
    }
   ],
   "source": [
    "mpgquestion3.show()"
   ]
  },
  {
   "cell_type": "code",
   "execution_count": null,
   "metadata": {
    "id": "IEXk6vo-iEyg"
   },
   "outputs": [],
   "source": [
    "#Makind dependent variable mpg indexing."
   ]
  },
  {
   "cell_type": "code",
   "execution_count": 215,
   "metadata": {
    "id": "bbAOQdc8hu9P"
   },
   "outputs": [],
   "source": [
    "indxr = StringIndexer(inputCol=\"mpg\",outputCol=\"label\")\n",
    "indexModel = indxr.fit(mpgquestion3)\n",
    "mpgquestion3indexed = indexModel.transform(mpgquestion3)"
   ]
  },
  {
   "cell_type": "code",
   "execution_count": 216,
   "metadata": {
    "colab": {
     "base_uri": "https://localhost:8080/"
    },
    "id": "qVOCJHEBiCGg",
    "outputId": "eb59f04e-f892-4dff-9ec4-02185040e114"
   },
   "outputs": [
    {
     "name": "stdout",
     "output_type": "stream",
     "text": [
      "+----+---------+------------+------+----------+------------+----------+------+--------------------+-----+\n",
      "| mpg|cylinders|displacement|weight|horsepower|acceleration|model_year|origin|                name|label|\n",
      "+----+---------+------------+------+----------+------------+----------+------+--------------------+-----+\n",
      "|18.0|        8|       307.0|  3504|       130|        12.0|        70|     1|chevrolet chevell...|  2.0|\n",
      "|15.0|        8|       350.0|  3693|       165|        11.5|        70|     1|   buick skylark 320|  3.0|\n",
      "|18.0|        8|       318.0|  3436|       150|        11.0|        70|     1|  plymouth satellite|  2.0|\n",
      "+----+---------+------------+------+----------+------------+----------+------+--------------------+-----+\n",
      "only showing top 3 rows\n",
      "\n"
     ]
    }
   ],
   "source": [
    "mpgquestion3indexed.show(3)"
   ]
  },
  {
   "cell_type": "markdown",
   "metadata": {
    "id": "LG3ZSeBAen1i"
   },
   "source": [
    "One-Hot Encoding origin"
   ]
  },
  {
   "cell_type": "code",
   "execution_count": 217,
   "metadata": {
    "id": "m7LfEXaHeuyf"
   },
   "outputs": [],
   "source": [
    "encoder = OneHotEncoder(inputCol=\"origin\",outputCol=\"encoded_Origin\")\n"
   ]
  },
  {
   "cell_type": "code",
   "execution_count": null,
   "metadata": {
    "id": "qeIuoUeIf4C4"
   },
   "outputs": [],
   "source": [
    "#One-hot encoder is a encoder that is used for preparing categorical data to ml algorithms. In case of distinct values of the field is higher than 2 we can use one hot encoder, if it is equal to 2 we can use label encoder."
   ]
  },
  {
   "cell_type": "code",
   "execution_count": 218,
   "metadata": {
    "colab": {
     "base_uri": "https://localhost:8080/"
    },
    "id": "Ve1VAPFkfQgh",
    "outputId": "330a96fe-08da-4579-fd84-455c92cb1907"
   },
   "outputs": [
    {
     "name": "stdout",
     "output_type": "stream",
     "text": [
      "+----+---------+------------+------+----------+------------+----------+------+--------------------+-----+--------------+\n",
      "| mpg|cylinders|displacement|weight|horsepower|acceleration|model_year|origin|                name|label|encoded_Origin|\n",
      "+----+---------+------------+------+----------+------------+----------+------+--------------------+-----+--------------+\n",
      "|18.0|        8|       307.0|  3504|       130|        12.0|        70|     1|chevrolet chevell...|  2.0| (3,[1],[1.0])|\n",
      "|15.0|        8|       350.0|  3693|       165|        11.5|        70|     1|   buick skylark 320|  3.0| (3,[1],[1.0])|\n",
      "|18.0|        8|       318.0|  3436|       150|        11.0|        70|     1|  plymouth satellite|  2.0| (3,[1],[1.0])|\n",
      "+----+---------+------------+------+----------+------------+----------+------+--------------------+-----+--------------+\n",
      "only showing top 3 rows\n",
      "\n"
     ]
    }
   ],
   "source": [
    "mpgquestion3encoded = encoder.fit(mpgquestion3indexed).transform(mpgquestion3indexed)\n",
    "mpgquestion3encoded.show(3)"
   ]
  },
  {
   "cell_type": "code",
   "execution_count": 219,
   "metadata": {
    "id": "5hBcXM8YhLoF"
   },
   "outputs": [],
   "source": [
    " mpgquestion3encoded = mpgquestion3encoded.select(\"label\",\"cylinders\",\"displacement\",\"horsepower\",\"weight\",\"acceleration\",\"model_year\",\n",
    " \"encoded_Origin\") # dropping normal origin continue with encoded origin.Also name cannot be used for Ml model"
   ]
  },
  {
   "cell_type": "code",
   "execution_count": 220,
   "metadata": {
    "id": "Kfs8cRV3kUD-"
   },
   "outputs": [],
   "source": [
    "mpgquestion3encoded.createOrReplaceTempView(\"string_to_int_horsepower\")"
   ]
  },
  {
   "cell_type": "code",
   "execution_count": 171,
   "metadata": {
    "id": "YfZTMBV5ld-u"
   },
   "outputs": [],
   "source": [
    "#IllegalArgumentException: Data type string of column horsepower is not supported. Below step is made to solve this problem"
   ]
  },
  {
   "cell_type": "code",
   "execution_count": 221,
   "metadata": {
    "id": "EywSHIc-kV2q"
   },
   "outputs": [],
   "source": [
    "mpgquestion3encoded = spark.sql(\"\"\"select \n",
    "label,cast(cylinders as int) as cylinders,\n",
    "cast(displacement as int) as displacement,\n",
    "cast(horsepower as int) as horsepower,\n",
    "cast(weight as int),\n",
    "cast(acceleration as int),\n",
    "cast(model_year as int),\n",
    "encoded_Origin\n",
    "from string_to_int_horsepower\n",
    " \"\"\") "
   ]
  },
  {
   "cell_type": "code",
   "execution_count": 222,
   "metadata": {
    "colab": {
     "base_uri": "https://localhost:8080/"
    },
    "id": "iqGkSE-ckxVC",
    "outputId": "1ea0120d-56ef-4547-c889-fc9919e40638"
   },
   "outputs": [
    {
     "name": "stdout",
     "output_type": "stream",
     "text": [
      "+-----+---------+------------+----------+------+------------+----------+--------------+\n",
      "|label|cylinders|displacement|horsepower|weight|acceleration|model_year|encoded_Origin|\n",
      "+-----+---------+------------+----------+------+------------+----------+--------------+\n",
      "|  2.0|        8|         307|       130|  3504|          12|        70| (3,[1],[1.0])|\n",
      "|  3.0|        8|         350|       165|  3693|          11|        70| (3,[1],[1.0])|\n",
      "|  2.0|        8|         318|       150|  3436|          11|        70| (3,[1],[1.0])|\n",
      "+-----+---------+------------+----------+------+------------+----------+--------------+\n",
      "only showing top 3 rows\n",
      "\n"
     ]
    }
   ],
   "source": [
    "mpgquestion3encoded.show(3)"
   ]
  },
  {
   "cell_type": "code",
   "execution_count": 223,
   "metadata": {
    "colab": {
     "base_uri": "https://localhost:8080/"
    },
    "id": "1VaGdVf8m6gL",
    "outputId": "6d312897-341e-44a6-cb8a-9750a1dcb87c"
   },
   "outputs": [
    {
     "name": "stdout",
     "output_type": "stream",
     "text": [
      "root\n",
      " |-- label: double (nullable = false)\n",
      " |-- cylinders: integer (nullable = true)\n",
      " |-- displacement: integer (nullable = true)\n",
      " |-- horsepower: integer (nullable = true)\n",
      " |-- weight: integer (nullable = true)\n",
      " |-- acceleration: integer (nullable = true)\n",
      " |-- model_year: integer (nullable = true)\n",
      " |-- encoded_Origin: vector (nullable = true)\n",
      "\n"
     ]
    }
   ],
   "source": [
    "mpgquestion3encoded.printSchema()"
   ]
  },
  {
   "cell_type": "markdown",
   "metadata": {
    "id": "kBzMM4PVkGr2"
   },
   "source": []
  },
  {
   "cell_type": "code",
   "execution_count": 224,
   "metadata": {
    "id": "6ecN71kajgxx"
   },
   "outputs": [],
   "source": [
    "vec = VectorAssembler(inputCols=mpgquestion3encoded.columns[1:7],outputCol=\"features\")"
   ]
  },
  {
   "cell_type": "code",
   "execution_count": 225,
   "metadata": {
    "id": "IbAZlR2Bjyn3"
   },
   "outputs": [],
   "source": [
    "mpgquestion3encoded = vec.transform(mpgquestion3encoded)\n",
    "mpgquestion3encoded = mpgquestion3encoded.select(\"features\",\"label\")"
   ]
  },
  {
   "cell_type": "code",
   "execution_count": 226,
   "metadata": {
    "colab": {
     "base_uri": "https://localhost:8080/"
    },
    "id": "rwLYrknkmrYO",
    "outputId": "6e6ab80a-ef30-49c9-b4d2-e3805c310637"
   },
   "outputs": [
    {
     "name": "stdout",
     "output_type": "stream",
     "text": [
      "+----------------------------------+-----+\n",
      "|features                          |label|\n",
      "+----------------------------------+-----+\n",
      "|[8.0,307.0,130.0,3504.0,12.0,70.0]|2.0  |\n",
      "|[8.0,350.0,165.0,3693.0,11.0,70.0]|3.0  |\n",
      "|[8.0,318.0,150.0,3436.0,11.0,70.0]|2.0  |\n",
      "|[8.0,304.0,150.0,3433.0,12.0,70.0]|5.0  |\n",
      "|[8.0,302.0,140.0,3449.0,10.0,70.0]|15.0 |\n",
      "|[8.0,429.0,198.0,4341.0,10.0,70.0]|3.0  |\n",
      "|[8.0,454.0,220.0,4354.0,9.0,70.0] |1.0  |\n",
      "|[8.0,440.0,215.0,4312.0,8.0,70.0] |1.0  |\n",
      "|[8.0,455.0,225.0,4425.0,10.0,70.0]|1.0  |\n",
      "|[8.0,390.0,190.0,3850.0,8.0,70.0] |3.0  |\n",
      "|[8.0,383.0,170.0,3563.0,10.0,70.0]|3.0  |\n",
      "|[8.0,340.0,160.0,3609.0,8.0,70.0] |1.0  |\n",
      "|[8.0,400.0,150.0,3761.0,9.0,70.0] |3.0  |\n",
      "|[8.0,455.0,225.0,3086.0,10.0,70.0]|1.0  |\n",
      "|[4.0,113.0,95.0,2372.0,15.0,70.0] |7.0  |\n",
      "|[6.0,198.0,95.0,2833.0,15.0,70.0] |8.0  |\n",
      "|[6.0,199.0,97.0,2774.0,15.0,70.0] |2.0  |\n",
      "|[6.0,200.0,85.0,2587.0,16.0,70.0] |16.0 |\n",
      "|[4.0,97.0,88.0,2130.0,14.0,70.0]  |13.0 |\n",
      "|[4.0,97.0,46.0,1835.0,20.0,70.0]  |4.0  |\n",
      "+----------------------------------+-----+\n",
      "only showing top 20 rows\n",
      "\n"
     ]
    }
   ],
   "source": [
    "mpgquestion3encoded.show(truncate=False)"
   ]
  },
  {
   "cell_type": "code",
   "execution_count": 227,
   "metadata": {
    "id": "YWp62-esj969"
   },
   "outputs": [],
   "source": [
    "rfClassifier = RandomForestClassifier()"
   ]
  },
  {
   "cell_type": "code",
   "execution_count": 228,
   "metadata": {
    "id": "yNq8Zr0klw7n"
   },
   "outputs": [],
   "source": [
    "trainDF, testDF = mpgquestion3encoded.randomSplit([0.7,0.3],seed=10)"
   ]
  },
  {
   "cell_type": "code",
   "execution_count": 229,
   "metadata": {
    "id": "-ZZxiXcFl1BN"
   },
   "outputs": [],
   "source": [
    "eva = MulticlassClassificationEvaluator(metricName=\"accuracy\")"
   ]
  },
  {
   "cell_type": "code",
   "execution_count": 245,
   "metadata": {
    "id": "uynrLr4Ql4SI"
   },
   "outputs": [],
   "source": [
    "params = ParamGridBuilder()\\\n",
    "    .addGrid(rfClassifier.maxDepth, [17,18,19]) \\\n",
    "    .addGrid(rfClassifier.numTrees, [2,3,4,5])\\\n",
    "    .addGrid(rfClassifier.impurity, ['gini',\"entropy\"])\\\n",
    "    .build()\n",
    "\n",
    "validator = TrainValidationSplit(\n",
    "                                estimatorParamMaps=params,\n",
    "                                estimator=rfClassifier,\n",
    "                                evaluator=eva,\n",
    "                                trainRatio=0.8\n",
    "                                )\n"
   ]
  },
  {
   "cell_type": "code",
   "execution_count": 246,
   "metadata": {
    "colab": {
     "base_uri": "https://localhost:8080/"
    },
    "id": "iZkaE4jBmAy1",
    "outputId": "76f4d61f-c483-4a07-9f28-3f9bb5ffc946"
   },
   "outputs": [
    {
     "name": "stdout",
     "output_type": "stream",
     "text": [
      "Num Trees :  5\n",
      "Max Depth :  17\n",
      "Impurtiy :  entropy\n",
      "Başarı :  0.864406779661017\n"
     ]
    }
   ],
   "source": [
    "model = validator.fit(mpgquestion3encoded)\n",
    "\n",
    "print(\"Num Trees : \",model.bestModel.getNumTrees)\n",
    "print(\"Max Depth : \",model.bestModel._java_obj.getMaxDepth())\n",
    "print(\"Impurtiy : \",model.bestModel._java_obj.getImpurity())\n",
    "\n",
    "sonucDF = model.transform(testDF)\n",
    "\n",
    "basari = eva.evaluate(sonucDF)\n",
    "\n",
    "print(\"Başarı : \",basari)"
   ]
  },
  {
   "cell_type": "code",
   "execution_count": null,
   "metadata": {
    "id": "8FupcPq8tW-8"
   },
   "outputs": [],
   "source": [
    "#After increasing de maxdepth from 1,2,3 to 13,14,15 our accuracy increased dramatically from 0.23 to 0.86"
   ]
  },
  {
   "cell_type": "code",
   "execution_count": null,
   "metadata": {
    "id": "HVQ5MTCjuUv9"
   },
   "outputs": [],
   "source": [
    "#Trying to pca for model"
   ]
  },
  {
   "cell_type": "code",
   "execution_count": 275,
   "metadata": {
    "colab": {
     "base_uri": "https://localhost:8080/"
    },
    "id": "ISNFnYKBt0HB",
    "outputId": "820a5db2-792c-4ae2-8a87-b30c39678d01"
   },
   "outputs": [
    {
     "name": "stdout",
     "output_type": "stream",
     "text": [
      "+------------------------------------------------------------+-----+\n",
      "|features                                                    |label|\n",
      "+------------------------------------------------------------+-----+\n",
      "|[-3518.4019375612384,95.94136835581713,-17.62639983600673]  |2.0  |\n",
      "|[-3712.2991077500105,67.62104611725773,-37.40704091055741]  |3.0  |\n",
      "|[-3452.9385526808746,71.32756736040149,-33.511778972374586] |2.0  |\n",
      "|[-3448.3584338019305,84.24021666343378,-37.68554887992415]  |5.0  |\n",
      "|[-3463.6254528129457,90.98036253179399,-28.92156754827797]  |15.0 |\n",
      "|[-4365.871804778685,61.27380056117486,-43.24373303518897]   |3.0  |\n",
      "|[-4382.493703537521,32.602895728113985,-56.58225637193008]  |1.0  |\n",
      "|[-4339.007083709525,42.23116338533601,-56.26494170804667]   |1.0  |\n",
      "|[-4453.281397902522,38.77255139297322,-60.76942706648724]   |1.0  |\n",
      "|[-3873.7006277784067,41.190424924538156,-48.8452547602388]  |3.0  |\n",
      "|[-3587.221003339059,19.185515238073695,-32.544419521580004] |3.0  |\n",
      "|[-3627.5801728202073,68.32802769804925,-36.13693754766885]  |1.0  |\n",
      "|[-3784.9361358500073,32.94776884616993,-8.00570719749317]   |3.0  |\n",
      "|[-3124.0916259707265,-122.91981055783273,-64.07150227566491]|1.0  |\n",
      "|[-2371.138160219143,153.33091976058822,-45.82461422323961]  |7.0  |\n",
      "|[-2838.483348989328,128.5759037058263,-18.902663718139664]  |8.0  |\n",
      "|[-2780.107891290647,119.90894935181115,-20.642430723160597] |2.0  |\n",
      "|[-2594.1233916611473,99.99380005040568,-9.337515213676031]  |16.0 |\n",
      "|[-2128.8102274415087,141.29616866579514,-44.709428609683094]|13.0 |\n",
      "|[-1834.3271410507043,118.39809462088107,-5.121351277451837] |4.0  |\n",
      "+------------------------------------------------------------+-----+\n",
      "only showing top 20 rows\n",
      "\n"
     ]
    }
   ],
   "source": [
    "from pyspark.mllib.linalg import Vectors\n",
    "from pyspark.mllib.linalg.distributed import RowMatrix\n",
    "\n",
    "pca_prep = mpgquestion3encoded.select(\"features\",\"label\")\n",
    "pca = PCA(k=3, inputCol=\"features\", outputCol=\"Features\")\n",
    "model = pca.fit(pca_prep)\n",
    "result = model.transform(pca_prep).select(\"features\",\"label\")\n",
    "result.show(truncate=False)\n"
   ]
  },
  {
   "cell_type": "code",
   "execution_count": 276,
   "metadata": {
    "id": "Ck_zq2gUwqfv"
   },
   "outputs": [],
   "source": [
    "rfClassifier = RandomForestClassifier()\n",
    "trainDF, testDF = result.randomSplit([0.7,0.3],seed=10)\n",
    "eva = MulticlassClassificationEvaluator(metricName=\"accuracy\")"
   ]
  },
  {
   "cell_type": "code",
   "execution_count": 281,
   "metadata": {
    "id": "2OIDjftiwv-4"
   },
   "outputs": [],
   "source": [
    "params = ParamGridBuilder()\\\n",
    "    .addGrid(rfClassifier.maxDepth, [17,18,19]) \\\n",
    "    .addGrid(rfClassifier.numTrees, [13,14,15])\\\n",
    "    .addGrid(rfClassifier.impurity, ['gini',\"entropy\"])\\\n",
    "    .build()\n",
    "\n",
    "validator = TrainValidationSplit(\n",
    "                                estimatorParamMaps=params,\n",
    "                                estimator=rfClassifier,\n",
    "                                evaluator=eva,\n",
    "                                trainRatio=0.8\n",
    "                                )\n"
   ]
  },
  {
   "cell_type": "code",
   "execution_count": 282,
   "metadata": {
    "colab": {
     "base_uri": "https://localhost:8080/"
    },
    "id": "-8LoPtJbwxyU",
    "outputId": "215b7898-076e-42f9-aceb-6cd049a89d39"
   },
   "outputs": [
    {
     "name": "stdout",
     "output_type": "stream",
     "text": [
      "Num Trees :  13\n",
      "Max Depth :  17\n",
      "Impurtiy :  entropy\n",
      "Başarı :  0.940677966101695\n"
     ]
    }
   ],
   "source": [
    "model = validator.fit(result)\n",
    "\n",
    "print(\"Num Trees : \",model.bestModel.getNumTrees)\n",
    "print(\"Max Depth : \",model.bestModel._java_obj.getMaxDepth())\n",
    "print(\"Impurtiy : \",model.bestModel._java_obj.getImpurity())\n",
    "\n",
    "sonucDF = model.transform(testDF)\n",
    "\n",
    "basari = eva.evaluate(sonucDF)\n",
    "\n",
    "print(\"Başarı : \",basari)"
   ]
  },
  {
   "cell_type": "code",
   "execution_count": null,
   "metadata": {
    "id": "OiC1c4zZxaFE"
   },
   "outputs": [],
   "source": [
    "#we can see that after using pca and increasing the numTrees our accuracy increased from 86 to 94. We can use pca for this data set with the given parameters below."
   ]
  }
 ],
 "metadata": {
  "colab": {
   "collapsed_sections": [],
   "name": "Tufan_keser_final_exampart2.ipynb",
   "provenance": []
  },
  "kernelspec": {
   "display_name": "Python 3",
   "language": "python",
   "name": "python3"
  },
  "language_info": {
   "codemirror_mode": {
    "name": "ipython",
    "version": 3
   },
   "file_extension": ".py",
   "mimetype": "text/x-python",
   "name": "python",
   "nbconvert_exporter": "python",
   "pygments_lexer": "ipython3",
   "version": "3.7.7"
  }
 },
 "nbformat": 4,
 "nbformat_minor": 1
}
