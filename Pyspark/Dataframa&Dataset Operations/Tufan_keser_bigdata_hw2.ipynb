{
  "nbformat": 4,
  "nbformat_minor": 0,
  "metadata": {
    "colab": {
      "name": "Tufan_keser_bigdata_hw2.ipynb",
      "provenance": []
    },
    "kernelspec": {
      "name": "python3",
      "display_name": "Python 3"
    }
  },
  "cells": [
    {
      "cell_type": "code",
      "metadata": {
        "colab": {
          "base_uri": "https://localhost:8080/"
        },
        "id": "6QxDXhkrZYDT",
        "outputId": "7ed2b027-dfc2-4088-94e2-0f89f61090ad"
      },
      "source": [
        "!apt-get update\r\n",
        "\r\n",
        "!apt-get install openjdk-8-jdk-headless -qq > /dev/null\r\n",
        "\r\n",
        "import os\r\n",
        "\r\n",
        "os.environ[\"JAVA_HOME\"] = \"/usr/lib/jvm/java-8-openjdk-amd64\"\r\n",
        "\r\n",
        "!update-alternatives --set java /usr/lib/jvm/java-8-openjdk-amd64/jre/bin/java\r\n",
        "\r\n",
        "!java -version\r\n",
        "\r\n",
        "!pip install pyspark\r\n"
      ],
      "execution_count": 1,
      "outputs": [
        {
          "output_type": "stream",
          "text": [
            "Get:1 https://cloud.r-project.org/bin/linux/ubuntu bionic-cran40/ InRelease [3,626 B]\n",
            "Ign:2 https://developer.download.nvidia.com/compute/cuda/repos/ubuntu1804/x86_64  InRelease\n",
            "Get:3 http://security.ubuntu.com/ubuntu bionic-security InRelease [88.7 kB]\n",
            "Ign:4 https://developer.download.nvidia.com/compute/machine-learning/repos/ubuntu1804/x86_64  InRelease\n",
            "Get:5 https://developer.download.nvidia.com/compute/cuda/repos/ubuntu1804/x86_64  Release [697 B]\n",
            "Hit:6 https://developer.download.nvidia.com/compute/machine-learning/repos/ubuntu1804/x86_64  Release\n",
            "Hit:7 http://archive.ubuntu.com/ubuntu bionic InRelease\n",
            "Get:8 http://ppa.launchpad.net/c2d4u.team/c2d4u4.0+/ubuntu bionic InRelease [15.9 kB]\n",
            "Get:9 https://developer.download.nvidia.com/compute/cuda/repos/ubuntu1804/x86_64  Release.gpg [836 B]\n",
            "Get:11 http://archive.ubuntu.com/ubuntu bionic-updates InRelease [88.7 kB]\n",
            "Hit:12 http://ppa.launchpad.net/cran/libgit2/ubuntu bionic InRelease\n",
            "Ign:13 https://developer.download.nvidia.com/compute/cuda/repos/ubuntu1804/x86_64  Packages\n",
            "Get:13 https://developer.download.nvidia.com/compute/cuda/repos/ubuntu1804/x86_64  Packages [577 kB]\n",
            "Get:14 http://archive.ubuntu.com/ubuntu bionic-backports InRelease [74.6 kB]\n",
            "Hit:15 http://ppa.launchpad.net/deadsnakes/ppa/ubuntu bionic InRelease\n",
            "Get:16 http://security.ubuntu.com/ubuntu bionic-security/main amd64 Packages [1,964 kB]\n",
            "Hit:17 http://ppa.launchpad.net/graphics-drivers/ppa/ubuntu bionic InRelease\n",
            "Get:18 http://archive.ubuntu.com/ubuntu bionic-updates/universe amd64 Packages [2,163 kB]\n",
            "Get:19 http://ppa.launchpad.net/c2d4u.team/c2d4u4.0+/ubuntu bionic/main Sources [1,745 kB]\n",
            "Get:20 http://security.ubuntu.com/ubuntu bionic-security/universe amd64 Packages [1,396 kB]\n",
            "Get:21 http://archive.ubuntu.com/ubuntu bionic-updates/main amd64 Packages [2,394 kB]\n",
            "Get:22 http://ppa.launchpad.net/c2d4u.team/c2d4u4.0+/ubuntu bionic/main amd64 Packages [893 kB]\n",
            "Fetched 11.4 MB in 6s (1,947 kB/s)\n",
            "Reading package lists... Done\n",
            "update-alternatives: using /usr/lib/jvm/java-8-openjdk-amd64/jre/bin/java to provide /usr/bin/java (java) in manual mode\n",
            "openjdk version \"1.8.0_282\"\n",
            "OpenJDK Runtime Environment (build 1.8.0_282-8u282-b08-0ubuntu1~18.04-b08)\n",
            "OpenJDK 64-Bit Server VM (build 25.282-b08, mixed mode)\n",
            "Collecting pyspark\n",
            "\u001b[?25l  Downloading https://files.pythonhosted.org/packages/45/b0/9d6860891ab14a39d4bddf80ba26ce51c2f9dc4805e5c6978ac0472c120a/pyspark-3.1.1.tar.gz (212.3MB)\n",
            "\u001b[K     |████████████████████████████████| 212.3MB 63kB/s \n",
            "\u001b[?25hCollecting py4j==0.10.9\n",
            "\u001b[?25l  Downloading https://files.pythonhosted.org/packages/9e/b6/6a4fb90cd235dc8e265a6a2067f2a2c99f0d91787f06aca4bcf7c23f3f80/py4j-0.10.9-py2.py3-none-any.whl (198kB)\n",
            "\u001b[K     |████████████████████████████████| 204kB 20.1MB/s \n",
            "\u001b[?25hBuilding wheels for collected packages: pyspark\n",
            "  Building wheel for pyspark (setup.py) ... \u001b[?25l\u001b[?25hdone\n",
            "  Created wheel for pyspark: filename=pyspark-3.1.1-py2.py3-none-any.whl size=212767604 sha256=40c885ce679dfbba341dc122bf40cdecfcc254d34b938a195223f6e43f9a74cd\n",
            "  Stored in directory: /root/.cache/pip/wheels/0b/90/c0/01de724414ef122bd05f056541fb6a0ecf47c7ca655f8b3c0f\n",
            "Successfully built pyspark\n",
            "Installing collected packages: py4j, pyspark\n",
            "Successfully installed py4j-0.10.9 pyspark-3.1.1\n"
          ],
          "name": "stdout"
        }
      ]
    },
    {
      "cell_type": "code",
      "metadata": {
        "colab": {
          "base_uri": "https://localhost:8080/"
        },
        "id": "kim5sFlKZby8",
        "outputId": "41d6139b-c1d3-4a04-a168-fc3fe6ac11b6"
      },
      "source": [
        "#Apache Spark : Genel amaçlı paralel veri işleme frameworku\r\n",
        "\r\n",
        "#Hadoop üzerinde çalışabilir\r\n",
        "\r\n",
        "#Büyük Veri İşleme, Büyük Veri ile Makine Öğrenmesi ===> HADOOP + Spark\r\n",
        "from pyspark.sql.functions import *\r\n",
        "from pyspark.sql.functions import UserDefinedFunction\r\n",
        "from pyspark.sql.types import StringType,IntegerType,DateType,DoubleType\r\n",
        "from pyspark.sql import SparkSession #DataFrame objeleri yaratmak için gerekli\r\n",
        "from pyspark.sql.types import StructType,StructField\r\n",
        "from pyspark.sql.functions import UserDefinedFunction\r\n",
        "from pyspark.sql.types import StringType\r\n",
        "from pyspark.ml.feature import StringIndexer,VectorAssembler\r\n",
        "from pyspark.ml.classification import RandomForestClassifier\r\n",
        "\r\n",
        "\r\n",
        "spark = SparkSession.builder\\\r\n",
        ".appName(\"Spark Dataframe Intro\")\\\r\n",
        ".config(\"spark.sql.broadcastTimeout\",\"100000\")\\\r\n",
        ".getOrCreate()\r\n",
        "\r\n",
        "#Spark SQL\r\n",
        "\r\n",
        "\r\n",
        "ratings = spark.read\\\r\n",
        "              .option(\"inferSchema\", \"true\")\\\r\n",
        "              .option(\"header\", \"true\")\\\r\n",
        ".csv(\"ratings.csv\")              \r\n",
        "\r\n",
        "ratings.createOrReplaceTempView(\"ratings\")\r\n",
        "time_stamp_to_date_for_ratings = spark.sql(\"select userId, movieId, rating, date_sub(from_unixtime(cast(timestamp/1 as bigint)),0) as timestamp from ratings\").createOrReplaceTempView(\"ratings\")\r\n",
        "\r\n",
        "\r\n",
        "\r\n",
        "\r\n",
        "\r\n",
        "ratings.printSchema() \r\n",
        "\r\n",
        "\r\n",
        "\r\n",
        "ratings =spark.sql(\"select * from ratings where limit 5000\")"
      ],
      "execution_count": 3,
      "outputs": [
        {
          "output_type": "stream",
          "text": [
            "root\n",
            " |-- userId: integer (nullable = true)\n",
            " |-- movieId: integer (nullable = true)\n",
            " |-- rating: double (nullable = true)\n",
            " |-- timestamp: integer (nullable = true)\n",
            "\n"
          ],
          "name": "stdout"
        }
      ]
    },
    {
      "cell_type": "code",
      "metadata": {
        "id": "9Mia-hb8Zxr6"
      },
      "source": [
        "#after creating our dataframe we can pivot it for vectorizing.\r\n",
        "rating = ratings.groupBy(\"userId\").pivot(\"movieId\").sum(\"rating\").fillna(0)"
      ],
      "execution_count": 6,
      "outputs": []
    },
    {
      "cell_type": "code",
      "metadata": {
        "id": "nneMk-gUZlLr"
      },
      "source": [
        "#Now we are vecusing vecTor Assembler\r\n",
        "vec = VectorAssembler(inputCols=rating.columns[1:],outputCol=\"features\")\r\n",
        "rating2 = vec.transform(rating)\r\n",
        "rating2 = rating2.select(\"userId\",\"features\")\r\n"
      ],
      "execution_count": 7,
      "outputs": []
    },
    {
      "cell_type": "code",
      "metadata": {
        "id": "qVQ5Z4-nZ5aj"
      },
      "source": [
        "# for finding the distance between features we are using cross join\r\n",
        "rating2.createOrReplaceTempView(\"cartesian\")\r\n",
        "rating3 = spark.sql(\"select a.userId as userıd1,a.features as features1,b.features as features2 ,b.userID AS userID2 from cartesian a cross join cartesian b\")"
      ],
      "execution_count": 8,
      "outputs": []
    },
    {
      "cell_type": "code",
      "metadata": {
        "id": "BX8NjeZEaBwE"
      },
      "source": [
        "# now we are ready to \r\n",
        "import pyspark.sql.functions as F\r\n",
        "from pyspark.sql.types import FloatType\r\n",
        "from scipy.spatial import distance\r\n",
        "distance_udf = F.udf(lambda x, y: float(distance.euclidean(x, y)), FloatType())\r\n",
        "df2 = rating3.withColumn('distance', distance_udf(F.col('features2'),F.col('features1')))"
      ],
      "execution_count": 10,
      "outputs": []
    },
    {
      "cell_type": "code",
      "metadata": {
        "colab": {
          "base_uri": "https://localhost:8080/"
        },
        "id": "MU6cHXoCaDbr",
        "outputId": "ccf65765-4812-4336-fae0-4a675a759210"
      },
      "source": [
        "# here we are using dense_rank method  finding\ttop 10 (sorted\tby\ttheir\tsimilarity) most\tsimilar\tusers for\teach\tuser.\r\n",
        "spark.sql(\"\"\"select * from (select distinct userıd1,  DENSE_RANK() OVER (partition by userıd1 ORDER BY userıd1,distance asc)\r\n",
        "  similatiry_degree,userID2 as similiar_user_of_users, distance from finaldata where distance > 0 ORDER BY userıd1,distance ) where similatiry_degree <= 10 \"\"\").show(100)"
      ],
      "execution_count": 12,
      "outputs": [
        {
          "output_type": "stream",
          "text": [
            "+-------+-----------------+----------------------+---------+\n",
            "|userıd1|similatiry_degree|similiar_user_of_users| distance|\n",
            "+-------+-----------------+----------------------+---------+\n",
            "|      1|                1|                    26| 67.69786|\n",
            "|      1|                2|                     8| 68.88396|\n",
            "|      1|                3|                    13| 68.90573|\n",
            "|      1|                4|                    31|   68.942|\n",
            "|      1|                5|                     5|68.985504|\n",
            "|      1|                6|                    14| 69.26759|\n",
            "|      1|                7|                     3|69.336136|\n",
            "|      1|                8|                    25| 69.60963|\n",
            "|      1|                9|                    17|70.039276|\n",
            "|      1|               10|                     9| 70.19259|\n",
            "|      2|                1|                    26|26.424421|\n",
            "|      2|                2|                    25| 28.87473|\n",
            "|      2|                3|                     3|29.457596|\n",
            "|      2|                4|                    13|29.516945|\n",
            "|      2|                5|                     9|32.128647|\n",
            "|      2|                6|                    14| 32.48461|\n",
            "|      2|                7|                    30|32.599846|\n",
            "|      2|                8|                     5|32.806248|\n",
            "|      2|                9|                     8| 32.92795|\n",
            "|      2|               10|                    12| 33.21897|\n",
            "|      3|                1|                    26|25.009998|\n",
            "|      3|                2|                    13|28.956865|\n",
            "|      3|                3|                     2|29.457596|\n",
            "|      3|                4|                     9|30.975798|\n",
            "|      3|                5|                    25|31.575306|\n",
            "|      3|                6|                    14|31.583223|\n",
            "|      3|                7|                     5|31.882597|\n",
            "|      3|                8|                    12|32.105297|\n",
            "|      3|                9|                     8| 32.19472|\n",
            "|      3|               10|                    30| 34.20526|\n",
            "|      4|                1|                    26|56.797886|\n",
            "|      4|                2|                    13| 57.99138|\n",
            "|      4|                3|                     5|58.034473|\n",
            "|      4|                4|                     3|59.114296|\n",
            "|      4|                5|                    31| 59.31273|\n",
            "|      4|                6|                     2|59.692963|\n",
            "|      4|                7|                     8| 59.73274|\n",
            "|      4|                8|                    14|59.757843|\n",
            "|      4|                9|                    12|59.960403|\n",
            "|      4|               10|                    25|60.137344|\n",
            "|      5|                1|                    26|  25.0998|\n",
            "|      5|                2|                     8|26.907248|\n",
            "|      5|                3|                    14|30.903074|\n",
            "|      5|                4|                     3|31.882597|\n",
            "|      5|                5|                    13| 32.35738|\n",
            "|      5|                6|                     2|32.806248|\n",
            "|      5|                7|                    25| 34.32929|\n",
            "|      5|                8|                    12|  34.3984|\n",
            "|      5|                9|                     9| 34.43835|\n",
            "|      5|               10|                    32|34.641018|\n",
            "|      6|                1|                     8| 59.20304|\n",
            "|      6|                2|                    14|59.816387|\n",
            "|      6|                3|                     5| 61.04916|\n",
            "|      6|                4|                    26|61.798058|\n",
            "|      6|                5|                    32| 62.37788|\n",
            "|      6|                6|                    11| 64.45929|\n",
            "|      6|                7|                    31| 65.88627|\n",
            "|      6|                8|                    12| 66.21367|\n",
            "|      6|                9|                    13|  66.6033|\n",
            "|      6|               10|                     3| 66.68208|\n",
            "|      7|                1|                    26| 43.70355|\n",
            "|      7|                2|                     9|47.031902|\n",
            "|      7|                3|                    13| 47.28636|\n",
            "|      7|                4|                     5|47.370876|\n",
            "|      7|                5|                     8|47.391983|\n",
            "|      7|                6|                     3|47.439434|\n",
            "|      7|                7|                    25|47.565742|\n",
            "|      7|                8|                     2| 47.66288|\n",
            "|      7|                9|                    30| 47.88528|\n",
            "|      7|               10|                    14|47.937458|\n",
            "|      8|                1|                    26| 22.97825|\n",
            "|      8|                2|                    14|26.664583|\n",
            "|      8|                3|                     5|26.907248|\n",
            "|      8|                4|                    13| 32.04684|\n",
            "|      8|                5|                     3| 32.19472|\n",
            "|      8|                6|                     2| 32.92795|\n",
            "|      8|                7|                    32|33.941124|\n",
            "|      8|                8|                    25|34.154064|\n",
            "|      8|                9|                     9|34.727512|\n",
            "|      8|               10|                    12| 34.90344|\n",
            "|      9|                1|                    26| 28.10694|\n",
            "|      9|                2|                    13|30.870699|\n",
            "|      9|                3|                     3|30.975798|\n",
            "|      9|                4|                    25|31.882597|\n",
            "|      9|                5|                     2|32.128647|\n",
            "|      9|                6|                    14|34.132095|\n",
            "|      9|                7|                    30|34.416565|\n",
            "|      9|                8|                     5| 34.43835|\n",
            "|      9|                9|                    12|34.572388|\n",
            "|      9|               10|                     8|34.727512|\n",
            "|     10|                1|                    26|43.543083|\n",
            "|     10|                2|                    25| 44.73813|\n",
            "|     10|                3|                     2| 45.24102|\n",
            "|     10|                4|                    13|45.519226|\n",
            "|     10|                5|                     3| 45.76571|\n",
            "|     10|                6|                    30|  46.0923|\n",
            "|     10|                7|                    12|46.273643|\n",
            "|     10|                8|                     9| 46.67976|\n",
            "|     10|                9|                    14| 47.38143|\n",
            "|     10|               10|                     5|47.518417|\n",
            "+-------+-----------------+----------------------+---------+\n",
            "only showing top 100 rows\n",
            "\n"
          ],
          "name": "stdout"
        }
      ]
    }
  ]
}