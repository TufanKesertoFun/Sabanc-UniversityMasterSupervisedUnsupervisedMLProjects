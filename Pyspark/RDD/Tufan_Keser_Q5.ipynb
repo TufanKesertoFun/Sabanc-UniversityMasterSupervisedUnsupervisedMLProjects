{
  "nbformat": 4,
  "nbformat_minor": 0,
  "metadata": {
    "colab": {
      "name": "Tufan-Keser-Question5.ipynb",
      "provenance": []
    },
    "kernelspec": {
      "name": "python3",
      "display_name": "Python 3"
    }
  },
  "cells": [
    {
      "cell_type": "code",
      "metadata": {
        "colab": {
          "base_uri": "https://localhost:8080/"
        },
        "id": "Zir8IjR9_PYz",
        "outputId": "ac619b58-6bc6-41fb-a881-49f0d8862bd9"
      },
      "source": [
        "#Apache Spark : Genel amaçlı paralel veri işleme frameworku\r\n",
        "#Hadoop üzerinde çalışabilir\r\n",
        "#Büyük Veri İşleme, Büyük Veri ile Makine Öğrenmesi ===> HADOOP + Spark\r\n",
        "!apt-get update\r\n",
        "!apt-get install openjdk-8-jdk-headless -qq > /dev/null\r\n",
        "import os\r\n",
        "os.environ[\"JAVA_HOME\"] = \"/usr/lib/jvm/java-8-openjdk-amd64\"\r\n",
        "!update-alternatives --set java /usr/lib/jvm/java-8-openjdk-amd64/jre/bin/java\r\n",
        "!java -version\r\n",
        "!pip install pyspark"
      ],
      "execution_count": 2,
      "outputs": [
        {
          "output_type": "stream",
          "text": [
            "\r0% [Working]\r            \rGet:1 http://security.ubuntu.com/ubuntu bionic-security InRelease [88.7 kB]\n",
            "\r0% [Connecting to archive.ubuntu.com] [1 InRelease 14.2 kB/88.7 kB 16%] [Connec\r0% [Connecting to archive.ubuntu.com (91.189.88.152)] [Connected to cloud.r-pro\r0% [1 InRelease gpgv 88.7 kB] [Connecting to archive.ubuntu.com (91.189.88.152)\r                                                                               \rIgn:2 https://developer.download.nvidia.com/compute/cuda/repos/ubuntu1804/x86_64  InRelease\n",
            "\r0% [1 InRelease gpgv 88.7 kB] [Connecting to archive.ubuntu.com (91.189.88.152)\r                                                                               \rGet:3 https://cloud.r-project.org/bin/linux/ubuntu bionic-cran40/ InRelease [3,626 B]\n",
            "\r0% [1 InRelease gpgv 88.7 kB] [Connecting to archive.ubuntu.com (91.189.88.152)\r                                                                               \rGet:4 http://ppa.launchpad.net/c2d4u.team/c2d4u4.0+/ubuntu bionic InRelease [15.9 kB]\n",
            "\r0% [1 InRelease gpgv 88.7 kB] [Waiting for headers] [4 InRelease 14.2 kB/15.9 k\r                                                                               \rIgn:5 https://developer.download.nvidia.com/compute/machine-learning/repos/ubuntu1804/x86_64  InRelease\n",
            "\r0% [1 InRelease gpgv 88.7 kB] [Waiting for headers] [4 InRelease 14.2 kB/15.9 k\r                                                                               \rHit:6 https://developer.download.nvidia.com/compute/cuda/repos/ubuntu1804/x86_64  Release\n",
            "\r0% [1 InRelease gpgv 88.7 kB] [Waiting for headers] [4 InRelease 14.2 kB/15.9 k\r                                                                               \rHit:7 https://developer.download.nvidia.com/compute/machine-learning/repos/ubuntu1804/x86_64  Release\n",
            "Hit:8 http://archive.ubuntu.com/ubuntu bionic InRelease\n",
            "Get:9 http://archive.ubuntu.com/ubuntu bionic-updates InRelease [88.7 kB]\n",
            "Hit:10 http://ppa.launchpad.net/cran/libgit2/ubuntu bionic InRelease\n",
            "Get:11 http://security.ubuntu.com/ubuntu bionic-security/main amd64 Packages [1,963 kB]\n",
            "Hit:12 http://ppa.launchpad.net/deadsnakes/ppa/ubuntu bionic InRelease\n",
            "Get:13 http://security.ubuntu.com/ubuntu bionic-security/universe amd64 Packages [1,392 kB]\n",
            "Get:14 http://archive.ubuntu.com/ubuntu bionic-backports InRelease [74.6 kB]\n",
            "Hit:15 http://ppa.launchpad.net/graphics-drivers/ppa/ubuntu bionic InRelease\n",
            "Get:18 http://ppa.launchpad.net/c2d4u.team/c2d4u4.0+/ubuntu bionic/main Sources [1,739 kB]\n",
            "Get:19 http://archive.ubuntu.com/ubuntu bionic-updates/universe amd64 Packages [2,163 kB]\n",
            "Get:20 http://ppa.launchpad.net/c2d4u.team/c2d4u4.0+/ubuntu bionic/main amd64 Packages [889 kB]\n",
            "Get:21 http://archive.ubuntu.com/ubuntu bionic-updates/main amd64 Packages [2,394 kB]\n",
            "Fetched 10.8 MB in 3s (3,317 kB/s)\n",
            "Reading package lists... Done\n",
            "update-alternatives: using /usr/lib/jvm/java-8-openjdk-amd64/jre/bin/java to provide /usr/bin/java (java) in manual mode\n",
            "openjdk version \"1.8.0_282\"\n",
            "OpenJDK Runtime Environment (build 1.8.0_282-8u282-b08-0ubuntu1~18.04-b08)\n",
            "OpenJDK 64-Bit Server VM (build 25.282-b08, mixed mode)\n",
            "Collecting pyspark\n",
            "\u001b[?25l  Downloading https://files.pythonhosted.org/packages/27/67/5158f846202d7f012d1c9ca21c3549a58fd3c6707ae8ee823adcaca6473c/pyspark-3.0.2.tar.gz (204.8MB)\n",
            "\u001b[K     |████████████████████████████████| 204.8MB 69kB/s \n",
            "\u001b[?25hCollecting py4j==0.10.9\n",
            "\u001b[?25l  Downloading https://files.pythonhosted.org/packages/9e/b6/6a4fb90cd235dc8e265a6a2067f2a2c99f0d91787f06aca4bcf7c23f3f80/py4j-0.10.9-py2.py3-none-any.whl (198kB)\n",
            "\u001b[K     |████████████████████████████████| 204kB 19.1MB/s \n",
            "\u001b[?25hBuilding wheels for collected packages: pyspark\n",
            "  Building wheel for pyspark (setup.py) ... \u001b[?25l\u001b[?25hdone\n",
            "  Created wheel for pyspark: filename=pyspark-3.0.2-py2.py3-none-any.whl size=205186687 sha256=144abaede03a28df62774e4f154b6ddb43a10de41c0c0ec5cdd72d7a8a6f7b7e\n",
            "  Stored in directory: /root/.cache/pip/wheels/8b/09/da/c1f2859bcc86375dc972c5b6af4881b3603269bcc4c9be5d16\n",
            "Successfully built pyspark\n",
            "Installing collected packages: py4j, pyspark\n",
            "Successfully installed py4j-0.10.9 pyspark-3.0.2\n"
          ],
          "name": "stdout"
        }
      ]
    },
    {
      "cell_type": "code",
      "metadata": {
        "id": "BniQkJMJ_2ue"
      },
      "source": [
        "from pyspark import SparkContext\r\n",
        "\r\n",
        "sc = SparkContext.getOrCreate()"
      ],
      "execution_count": 3,
      "outputs": []
    },
    {
      "cell_type": "code",
      "metadata": {
        "colab": {
          "base_uri": "https://localhost:8080/"
        },
        "id": "73QA7h2JAl3N",
        "outputId": "5475fc62-73ec-4715-a328-fe8b0fec8110"
      },
      "source": [
        "dolar = sc.textFile(\"DolarVerileri.txt\")\r\n",
        "dolar.take(5)\r\n",
        "\r\n",
        "def splitTake(line):\r\n",
        "    arr = line.split('\\t')\r\n",
        "    order=int(arr[0])\r\n",
        "    date=arr[1]\r\n",
        "    currency=arr[2].replace(\".\",\"\").replace(\",\",\".\")\r\n",
        "    return order,(date,currency)\r\n",
        "\r\n",
        "def addsplitTake(line):\r\n",
        "    arr = line.split('\\t')\r\n",
        "    order=int(arr[0]) + 1\r\n",
        "    date=arr[1] \r\n",
        "    currency=arr[2].replace(\".\",\"\").replace(\",\",\".\")\r\n",
        "    return order,(date,currency)\r\n",
        "\r\n",
        "dolarRDD1 = dolar.map(lambda line : splitTake(line)).filter(lambda x: x[1][1]!=\"\")\r\n",
        "\r\n",
        "dolarRDD2 = dolar.map(lambda line : addsplitTake(line)).filter(lambda x: x[1][1]!=\"\")\r\n",
        "\r\n",
        "#print(dolarRDD1.take(2))\r\n",
        "#print(dolarRDD2.take(2))\r\n",
        "\r\n",
        "joinedRDD = dolarRDD2.join(dolarRDD1)\r\n",
        "#joinedRDD = sc.parallelize(joinedRDD)\r\n",
        "#joinedRDD.take(5)\r\n",
        "\r\n",
        "\r\n",
        "def ratiocalculator(data):\r\n",
        " dolar1 = data[1][0][1]\r\n",
        " date1 = data[1][0][0]\r\n",
        " dolar2 = data[1][1][1]\r\n",
        " date2 = data[1][1][0]\r\n",
        " diff = (float(dolar2)-float(dolar1))/float(dolar1)\r\n",
        " return date1,dolar1,dolar2,date2,diff\r\n",
        "res = joinedRDD.map(lambda line : ratiocalculator(line)).sortBy(lambda x: x[4],ascending=False)\r\n",
        "res.take(5)"
      ],
      "execution_count": 4,
      "outputs": [
        {
          "output_type": "execute_result",
          "data": {
            "text/plain": [
              "[('19-08-1960', '2.80', '9.00', '22-08-1960', 2.2142857142857144),\n",
              " ('24-01-1980', '35.00', '70.00', '25-01-1980', 1.0),\n",
              " ('07-08-1970', '9.00', '14.85', '10-08-1970', 0.6499999999999999),\n",
              " ('22-02-2001', '685391.00', '957879.00', '23-02-2001', 0.39756576902818974),\n",
              " ('05-04-1994', '23031.84', '31988.89', '06-04-1994', 0.38889858561018137)]"
            ]
          },
          "metadata": {
            "tags": []
          },
          "execution_count": 4
        }
      ]
    }
  ]
}